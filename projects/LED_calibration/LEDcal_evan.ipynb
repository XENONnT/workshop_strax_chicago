{
 "cells": [
  {
   "cell_type": "markdown",
   "metadata": {},
   "source": [
    "## SPE Acceptance in strax\n",
    "\n",
    "Evan, Jingqiang, Jianyu, Joran\n",
    "\n",
    "For overview of SPE acceptance, see https://xe1t-wiki.lngs.infn.it/doku.php?id=xenon:saldanha:xe1t:single_photoelectron_amplitude"
   ]
  },
  {
   "cell_type": "code",
   "execution_count": 1,
   "metadata": {},
   "outputs": [],
   "source": [
    "import matplotlib.pyplot as plt\n",
    "import os\n",
    "if os.environ['USER'] == 'ershockley':\n",
    "    plt.style.use('evan')"
   ]
  },
  {
   "cell_type": "code",
   "execution_count": 5,
   "metadata": {},
   "outputs": [],
   "source": [
    "import numpy as np\n",
    "from numba import njit\n",
    "# This just ensures some comments in dataframes below display nicely\n",
    "import pandas as pd\n",
    "from multihist import Hist1d, Histdd\n",
    "from tqdm import tqdm\n",
    "pd.options.display.max_colwidth = 100"
   ]
  },
  {
   "cell_type": "code",
   "execution_count": 3,
   "metadata": {},
   "outputs": [],
   "source": [
    "import strax\n",
    "export, __all__ = strax.exporter()"
   ]
  },
  {
   "cell_type": "code",
   "execution_count": 6,
   "metadata": {},
   "outputs": [],
   "source": [
    "import straxen\n",
    "st = straxen.contexts.strax_workshop_dali()"
   ]
  },
  {
   "cell_type": "code",
   "execution_count": 7,
   "metadata": {},
   "outputs": [
    {
     "name": "stderr",
     "output_type": "stream",
     "text": [
      "Checking data availability: 100%|██████████| 5/5 [00:06<00:00,  1.22s/it]\n"
     ]
    },
    {
     "data": {
      "text/html": [
       "<div>\n",
       "<style scoped>\n",
       "    .dataframe tbody tr th:only-of-type {\n",
       "        vertical-align: middle;\n",
       "    }\n",
       "\n",
       "    .dataframe tbody tr th {\n",
       "        vertical-align: top;\n",
       "    }\n",
       "\n",
       "    .dataframe thead th {\n",
       "        text-align: right;\n",
       "    }\n",
       "</style>\n",
       "<table border=\"1\" class=\"dataframe\">\n",
       "  <thead>\n",
       "    <tr style=\"text-align: right;\">\n",
       "      <th></th>\n",
       "      <th>number</th>\n",
       "      <th>name</th>\n",
       "    </tr>\n",
       "  </thead>\n",
       "  <tbody>\n",
       "    <tr>\n",
       "      <th>30</th>\n",
       "      <td>16985</td>\n",
       "      <td>180219_1049</td>\n",
       "    </tr>\n",
       "  </tbody>\n",
       "</table>\n",
       "</div>"
      ],
      "text/plain": [
       "   number         name\n",
       "30  16985  180219_1049"
      ]
     },
     "execution_count": 7,
     "metadata": {},
     "output_type": "execute_result"
    }
   ],
   "source": [
    "runs = st.select_runs(include_tags='spe_topbulk')\n",
    "\n",
    "runs[['number', 'name']]"
   ]
  },
  {
   "cell_type": "code",
   "execution_count": 8,
   "metadata": {},
   "outputs": [],
   "source": [
    "dataset = runs['name'].values[0]"
   ]
  },
  {
   "cell_type": "code",
   "execution_count": 11,
   "metadata": {},
   "outputs": [
    {
     "name": "stderr",
     "output_type": "stream",
     "text": [
      "Not saving raw_records while selecting a time range in the run\n"
     ]
    }
   ],
   "source": [
    "arr = st.get_array(dataset, 'raw_records', seconds_range=(0, 20))"
   ]
  },
  {
   "cell_type": "code",
   "execution_count": 13,
   "metadata": {},
   "outputs": [],
   "source": [
    "ch = 0\n",
    "arr_ch = arr[arr['channel'] == ch]\n",
    "\n"
   ]
  },
  {
   "cell_type": "code",
   "execution_count": 14,
   "metadata": {},
   "outputs": [],
   "source": [
    "def get_wf(arr):\n",
    "    for el in arr:\n",
    "        yield el['data']\n",
    "        \n",
    "wf_gen = get_wf(arr_ch)"
   ]
  },
  {
   "cell_type": "code",
   "execution_count": 15,
   "metadata": {},
   "outputs": [
    {
     "data": {
      "text/plain": [
       "(600,)"
      ]
     },
     "execution_count": 15,
     "metadata": {},
     "output_type": "execute_result"
    }
   ],
   "source": [
    "pulse = next(wf_gen)\n",
    "pulse.shape"
   ]
  },
  {
   "cell_type": "code",
   "execution_count": 190,
   "metadata": {},
   "outputs": [
    {
     "data": {
      "image/png": "[encoded data removed]",
      "text/plain": [
       "<Figure size 432x288 with 1 Axes>"
      ]
     },
     "metadata": {
      "needs_background": "light"
     },
     "output_type": "display_data"
    }
   ],
   "source": [
    "pulse = next(wf_gen)\n",
    "plt.plot(pulse, drawstyle='steps-mid')\n",
    "plt.xlabel('samples')\n",
    "plt.ylabel('adc counts / sample')\n",
    "plt.show()"
   ]
  },
  {
   "cell_type": "code",
   "execution_count": 27,
   "metadata": {},
   "outputs": [],
   "source": [
    "from scipy.stats import norm\n",
    "from scipy.optimize import curve_fit\n",
    "\n",
    "\n",
    "def gaus(x, *pars):\n",
    "    N, mu, sigma = pars\n",
    "    return N*norm.pdf(x, loc=mu, scale=sigma)\n",
    "\n"
   ]
  },
  {
   "cell_type": "code",
   "execution_count": 28,
   "metadata": {},
   "outputs": [],
   "source": [
    "channels = np.arange(248)"
   ]
  },
  {
   "cell_type": "code",
   "execution_count": 29,
   "metadata": {},
   "outputs": [
    {
     "name": "stderr",
     "output_type": "stream",
     "text": [
      "100%|██████████| 248/248 [02:23<00:00,  1.73it/s]\n"
     ]
    }
   ],
   "source": [
    "thresh = 20\n",
    "off_channels = []\n",
    "means = []\n",
    "sigmas = []\n",
    "\n",
    "for ch in tqdm(channels):\n",
    "    arr_ch = arr[arr['channel'] == ch]\n",
    "    amps = []\n",
    "    for a in arr_ch:\n",
    "        pulse = a['data']\n",
    "        amps.append(max(pulse))\n",
    "        \n",
    "    # make histogram\n",
    "    h = Hist1d(amps, bins=np.linspace(0,500,200))\n",
    "\n",
    "    idx = np.where(h.bin_centers > thresh)[0]\n",
    "    try:\n",
    "        fit, cov = curve_fit(gaus, h.bin_centers[idx], h.histogram[idx], p0=[2000, 100, 20])\n",
    "        means.append(fit[1])\n",
    "        sigmas.append(fit[2])\n",
    "        if fit[1] < 15:\n",
    "            off_channels.append(ch)\n",
    "    except:\n",
    "        off_channels.append(ch)\n",
    "        means.append(0)\n",
    "        sigmas.append(0)"
   ]
  },
  {
   "cell_type": "code",
   "execution_count": 30,
   "metadata": {},
   "outputs": [
    {
     "data": {
      "text/plain": [
       "[31, 203, 214]"
      ]
     },
     "execution_count": 30,
     "metadata": {},
     "output_type": "execute_result"
    }
   ],
   "source": [
    "off_channels"
   ]
  },
  {
   "cell_type": "code",
   "execution_count": 31,
   "metadata": {},
   "outputs": [
    {
     "data": {
      "text/plain": [
       "Text(0.5, 0, 'SPE amplitude mean')"
      ]
     },
     "execution_count": 31,
     "metadata": {},
     "output_type": "execute_result"
    },
    {
     "data": {
      "image/png": "[encoded data removed]",
      "text/plain": [
       "<Figure size 432x288 with 1 Axes>"
      ]
     },
     "metadata": {
      "needs_background": "light"
     },
     "output_type": "display_data"
    }
   ],
   "source": [
    "h = Hist1d(means, bins=np.linspace(0, 300, 50))\n",
    "h.plot()\n",
    "plt.xlabel('SPE amplitude mean')"
   ]
  },
  {
   "cell_type": "code",
   "execution_count": 32,
   "metadata": {},
   "outputs": [
    {
     "data": {
      "image/png": "[encoded data removed]",
      "text/plain": [
       "<Figure size 432x288 with 1 Axes>"
      ]
     },
     "metadata": {
      "needs_background": "light"
     },
     "output_type": "display_data"
    }
   ],
   "source": [
    "h = Hist1d(amps, bins=np.linspace(0,300,100))\n",
    "\n",
    "thresh = 20\n",
    "idx = np.where(h.bin_centers > thresh)[0]\n",
    "\n",
    "fit, cov = curve_fit(gaus, h.bin_centers[idx], h.histogram[idx], p0=[2000, 100, 20])\n",
    "\n",
    "h.plot()\n",
    "plt.plot(h.bin_centers, gaus(h.bin_centers, *fit), color='red')\n",
    "plt.yscale('log')\n",
    "plt.ylim(1, 1e4 )\n",
    "plt.xlabel('amplitude')\n",
    "plt.ylabel('counts/bin')\n",
    "plt.show()"
   ]
  },
  {
   "cell_type": "code",
   "execution_count": 33,
   "metadata": {},
   "outputs": [
    {
     "name": "stderr",
     "output_type": "stream",
     "text": [
      "100%|██████████| 248/248 [00:40<00:00,  6.15it/s]\n"
     ]
    }
   ],
   "source": [
    "h = Histdd(axis_names=['SPE arrival time [samples]', 'channel'], \n",
    "           bins=[np.linspace(0, 600, 100), np.linspace(0, 248, 249)])\n",
    "for ch in tqdm(channels):\n",
    "    arr_ch = arr[arr['channel'] == ch]\n",
    "    mu, sig = means[ch], sigmas[ch]\n",
    "    times = []\n",
    "    for a in arr_ch:\n",
    "        pulse = a['data']\n",
    "        # find regions where amplitude falls in SPE mean region \n",
    "        idx = np.where((mu-0.5*sig < pulse) & (pulse < mu + sig))[0]\n",
    "        times.extend(idx)\n",
    "    chlist = np.ones_like(times) * ch\n",
    "    \n",
    "    h.add(times, chlist)\n",
    "        "
   ]
  },
  {
   "cell_type": "code",
   "execution_count": 34,
   "metadata": {},
   "outputs": [
    {
     "data": {
      "image/png": "[encoded data removed]",
      "text/plain": [
       "<Figure size 432x288 with 2 Axes>"
      ]
     },
     "metadata": {
      "needs_background": "light"
     },
     "output_type": "display_data"
    }
   ],
   "source": [
    "h.plot(log_scale=True)\n",
    "plt.ylim(-10, 258)\n",
    "plt.show()"
   ]
  },
  {
   "cell_type": "code",
   "execution_count": 35,
   "metadata": {},
   "outputs": [
    {
     "data": {
      "image/png": "[encoded data removed]",
      "text/plain": [
       "<Figure size 432x288 with 1 Axes>"
      ]
     },
     "metadata": {
      "needs_background": "light"
     },
     "output_type": "display_data"
    }
   ],
   "source": [
    "# select only top pmts\n",
    "\n",
    "window = (125, 250)\n",
    "\n",
    "hslice = h.slice(0, 148, axis=1)\n",
    "\n",
    "hproj = hslice.projection(axis=0)\n",
    "\n",
    "hproj.plot()\n",
    "plt.yscale('log')\n",
    "plt.xlabel(\"Samples in SPE range\")\n",
    "plt.ylabel('arb. units')\n",
    "plt.axvspan(*window, color='grey', alpha=0.1)\n",
    "plt.show()"
   ]
  },
  {
   "cell_type": "code",
   "execution_count": 62,
   "metadata": {},
   "outputs": [
    {
     "name": "stderr",
     "output_type": "stream",
     "text": [
      "Not saving raw_records while selecting a time range in the run\n"
     ]
    }
   ],
   "source": [
    "ctext = straxen.contexts.strax_workshop_dali()\n",
    "raw_records  = ctext.get_array(dataset, 'raw_records', seconds_range=(0, 20))"
   ]
  },
  {
   "cell_type": "code",
   "execution_count": 106,
   "metadata": {},
   "outputs": [],
   "source": [
    "@njit\n",
    "def get_amplitude(raw_records, window):\n",
    "    ret = np.zeros(len(raw_records))\n",
    "    for i, r in enumerate(raw_records):\n",
    "        wf = r['data'][window[0]:window[1]]\n",
    "        amp = wf.max()\n",
    "        ret[i] = amp\n",
    "    return ret\n",
    "        "
   ]
  },
  {
   "cell_type": "code",
   "execution_count": 107,
   "metadata": {},
   "outputs": [
    {
     "name": "stdout",
     "output_type": "stream",
     "text": [
      "209 ms ± 1.61 ms per loop (mean ± std. dev. of 7 runs, 1 loop each)\n"
     ]
    }
   ],
   "source": [
    "%%timeit\n",
    "ret = get_amplitude(raw_records, (125,250))\n"
   ]
  },
  {
   "cell_type": "code",
   "execution_count": 123,
   "metadata": {},
   "outputs": [],
   "source": [
    "@export\n",
    "@strax.takes_config(\n",
    "    strax.Option(\n",
    "        'LED_window',\n",
    "        default=(125, 250),\n",
    "        help=\"Window (samples) where we expect signal in LED calibration\"))\n",
    "\n",
    "class LEDCal(strax.Plugin):\n",
    "    __version__ = '0.0.1'\n",
    "\n",
    "    depends_on = ('raw_records',)\n",
    "    data_kind = 'records'\n",
    "    provides = 'led_cal'\n",
    "    compressor = 'zstd'\n",
    "    parallel = 'process'\n",
    "    rechunk_on_save = False\n",
    "    dtype = [('amplitude', np.int32, 'Amplitude in LED window'),\n",
    "             ('channel', np.int16, 'Channel'),\n",
    "             ('time', np.int64, 'Start time of the interval (ns since unix epoch)'),\n",
    "             ('length', np.int32, 'Number of samples of record'),\n",
    "             ('dt', np.int8, 'ns per sample')\n",
    "            ]\n",
    "\n",
    "    def compute(self, raw_records):\n",
    "        # Remove records from funny channels (if present)\n",
    "        r = raw_records[raw_records['channel'] < 248] # hardcoded for now\n",
    "        \n",
    "        ret = np.zeros(len(r), dtype=self.dtype)\n",
    "        \n",
    "        amplitudes = get_amplitude(r, self.config['LED_window'])\n",
    "        \n",
    "        ret['amplitude'] = amplitudes\n",
    "        ret['channel'] = r['channel']\n",
    "        ret['time'] = r['time']\n",
    "        ret['length'] = r['length']\n",
    "        ret['dt'] = r['dt']\n",
    "        return np.array(ret, dtype=self.dtype)\n",
    "            \n"
   ]
  },
  {
   "cell_type": "code",
   "execution_count": 124,
   "metadata": {},
   "outputs": [
    {
     "data": {
      "text/plain": [
       "__main__.LEDCal"
      ]
     },
     "execution_count": 124,
     "metadata": {},
     "output_type": "execute_result"
    }
   ],
   "source": [
    "ctext.register(LEDCal)"
   ]
  },
  {
   "cell_type": "code",
   "execution_count": 125,
   "metadata": {},
   "outputs": [
    {
     "data": {
      "text/html": [
       "<div>\n",
       "<style scoped>\n",
       "    .dataframe tbody tr th:only-of-type {\n",
       "        vertical-align: middle;\n",
       "    }\n",
       "\n",
       "    .dataframe tbody tr th {\n",
       "        vertical-align: top;\n",
       "    }\n",
       "\n",
       "    .dataframe thead th {\n",
       "        text-align: right;\n",
       "    }\n",
       "</style>\n",
       "<table border=\"1\" class=\"dataframe\">\n",
       "  <thead>\n",
       "    <tr style=\"text-align: right;\">\n",
       "      <th></th>\n",
       "      <th>Field name</th>\n",
       "      <th>Data type</th>\n",
       "      <th>Comment</th>\n",
       "    </tr>\n",
       "  </thead>\n",
       "  <tbody>\n",
       "    <tr>\n",
       "      <th>0</th>\n",
       "      <td>amplitude</td>\n",
       "      <td>int32</td>\n",
       "      <td>Amplitude in LED window</td>\n",
       "    </tr>\n",
       "    <tr>\n",
       "      <th>1</th>\n",
       "      <td>channel</td>\n",
       "      <td>int16</td>\n",
       "      <td>Channel</td>\n",
       "    </tr>\n",
       "    <tr>\n",
       "      <th>2</th>\n",
       "      <td>time</td>\n",
       "      <td>int64</td>\n",
       "      <td>Start time of the interval (ns since unix epoch)</td>\n",
       "    </tr>\n",
       "    <tr>\n",
       "      <th>3</th>\n",
       "      <td>length</td>\n",
       "      <td>int32</td>\n",
       "      <td>Number of samples of record</td>\n",
       "    </tr>\n",
       "    <tr>\n",
       "      <th>4</th>\n",
       "      <td>dt</td>\n",
       "      <td>int8</td>\n",
       "      <td>ns per sample</td>\n",
       "    </tr>\n",
       "  </tbody>\n",
       "</table>\n",
       "</div>"
      ],
      "text/plain": [
       "  Field name Data type                                           Comment\n",
       "0  amplitude     int32                           Amplitude in LED window\n",
       "1    channel     int16                                           Channel\n",
       "2       time     int64  Start time of the interval (ns since unix epoch)\n",
       "3     length     int32                       Number of samples of record\n",
       "4         dt      int8                                     ns per sample"
      ]
     },
     "execution_count": 125,
     "metadata": {},
     "output_type": "execute_result"
    }
   ],
   "source": [
    "ctext.data_info('led_cal')"
   ]
  },
  {
   "cell_type": "code",
   "execution_count": 135,
   "metadata": {},
   "outputs": [
    {
     "data": {
      "text/plain": [
       "'180219_1030'"
      ]
     },
     "execution_count": 135,
     "metadata": {},
     "output_type": "execute_result"
    }
   ],
   "source": [
    "noise = ctext.select_runs(include_tags=['gain_step4'])['name'].values[0]\n",
    "noise"
   ]
  },
  {
   "cell_type": "code",
   "execution_count": 136,
   "metadata": {},
   "outputs": [],
   "source": [
    "ctext.make(noise, 'led_cal')"
   ]
  },
  {
   "cell_type": "code",
   "execution_count": null,
   "metadata": {},
   "outputs": [],
   "source": [
    "ctext.make(dataset, 'led_cal')"
   ]
  },
  {
   "cell_type": "code",
   "execution_count": 137,
   "metadata": {},
   "outputs": [
    {
     "name": "stderr",
     "output_type": "stream",
     "text": [
      "Not saving led_cal while selecting a time range in the run\n",
      "Not saving led_cal while selecting a time range in the run\n"
     ]
    }
   ],
   "source": [
    "led = ctext.get_array(dataset, 'led_cal', seconds_range=(0,20))\n",
    "noise = ctext.get_array(noise, 'led_cal', seconds_range=(0,20))"
   ]
  },
  {
   "cell_type": "code",
   "execution_count": 163,
   "metadata": {},
   "outputs": [
    {
     "data": {
      "image/png": "[encoded data removed]",
      "text/plain": [
       "<Figure size 432x288 with 1 Axes>"
      ]
     },
     "metadata": {
      "needs_background": "light"
     },
     "output_type": "display_data"
    }
   ],
   "source": [
    "ch = 0\n",
    "led = led[led['channel'] == ch]\n",
    "noise = noise[noise['channel'] == ch]\n",
    "\n",
    "led_h = Hist1d(led['amplitude'], bins=np.linspace(-9.5, 500.5, 511))\n",
    "noise_h = Hist1d(noise['amplitude'], bins=np.linspace(-9.5, 500.5, 511))\n",
    "\n",
    "led_h.plot(color='r', label='LED')\n",
    "noise_h.plot(color='k', label='noise')\n",
    "plt.yscale('log')\n",
    "plt.title(f\"Channel {ch}\")\n",
    "plt.xlabel(\"Amplitude\")\n",
    "plt.ylabel(\"counts/bin\")\n",
    "plt.legend()\n",
    "plt.xlim(-2, 25)\n",
    "plt.show()"
   ]
  },
  {
   "cell_type": "code",
   "execution_count": 173,
   "metadata": {},
   "outputs": [],
   "source": [
    "idx = np.where(noise_h.bin_centers < 6)\n",
    "correction = np.sum(led_h[idx]) / np.sum(noise_h[idx])"
   ]
  },
  {
   "cell_type": "code",
   "execution_count": 174,
   "metadata": {},
   "outputs": [],
   "source": [
    "noise_corr = noise_h * correction"
   ]
  },
  {
   "cell_type": "code",
   "execution_count": 175,
   "metadata": {},
   "outputs": [
    {
     "data": {
      "image/png": "[encoded data removed]",
      "text/plain": [
       "<Figure size 432x288 with 1 Axes>"
      ]
     },
     "metadata": {
      "needs_background": "light"
     },
     "output_type": "display_data"
    }
   ],
   "source": [
    "led_h.plot(color='r', label='LED')\n",
    "noise_corr.plot(color='k', label='noise corrected')\n",
    "plt.yscale('log')\n",
    "plt.title(f\"Channel {ch}\")\n",
    "plt.xlabel(\"Amplitude\")\n",
    "plt.ylabel(\"counts/bin\")\n",
    "plt.legend()\n",
    "plt.xlim(-2, 25)\n",
    "plt.show()"
   ]
  },
  {
   "cell_type": "code",
   "execution_count": 192,
   "metadata": {},
   "outputs": [
    {
     "data": {
      "image/png": "[encoded data removed]",
      "text/plain": [
       "<Figure size 432x288 with 1 Axes>"
      ]
     },
     "metadata": {
      "needs_background": "light"
     },
     "output_type": "display_data"
    }
   ],
   "source": [
    "residual = led_h - noise_corr\n",
    "\n",
    "residual.plot()\n",
    "plt.xlim(0,125)\n",
    "plt.ylim(-20, 80)\n",
    "plt.title('SPE amplitude spectrum')\n",
    "plt.xlabel('amplitude [adc counts]')\n",
    "plt.ylabel('SPE residual')\n",
    "plt.show()"
   ]
  },
  {
   "cell_type": "code",
   "execution_count": 193,
   "metadata": {},
   "outputs": [
    {
     "data": {
      "image/png": "[encoded data removed]",
      "text/plain": [
       "<Figure size 432x288 with 1 Axes>"
      ]
     },
     "metadata": {
      "needs_background": "light"
     },
     "output_type": "display_data"
    }
   ],
   "source": [
    "acc = residual.similar_blank_histogram()\n",
    "acc.histogram = 1 - np.cumsum(residual)/np.sum(residual)\n",
    "\n",
    "acc.plot()\n",
    "plt.xlim(0,100)\n",
    "plt.title(\"SPE Acceptance\")\n",
    "plt.xlabel('Threshold [ADC counts]')\n",
    "plt.ylabel('acceptance')\n",
    "plt.show()"
   ]
  },
  {
   "cell_type": "code",
   "execution_count": 194,
   "metadata": {},
   "outputs": [
    {
     "data": {
      "text/plain": [
       "array([0.98426046])"
      ]
     },
     "execution_count": 194,
     "metadata": {},
     "output_type": "execute_result"
    }
   ],
   "source": [
    "x = np.where(acc.bin_centers==15)[0]\n",
    "\n",
    "acc_fraction = acc[x]\n",
    "acc_fraction"
   ]
  },
  {
   "cell_type": "code",
   "execution_count": null,
   "metadata": {},
   "outputs": [],
   "source": []
  }
 ],
 "metadata": {
  "kernelspec": {
   "display_name": "Python 3",
   "language": "python",
   "name": "python3"
  },
  "language_info": {
   "codemirror_mode": {
    "name": "ipython",
    "version": 3
   },
   "file_extension": ".py",
   "mimetype": "text/x-python",
   "name": "python",
   "nbconvert_exporter": "python",
   "pygments_lexer": "ipython3",
   "version": "3.6.8"
  }
 },
 "nbformat": 4,
 "nbformat_minor": 2
}
