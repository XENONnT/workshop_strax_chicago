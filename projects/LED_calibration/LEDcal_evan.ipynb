{
 "cells": [
  {
   "cell_type": "code",
   "execution_count": 1,
   "metadata": {},
   "outputs": [],
   "source": [
    "import matplotlib.pyplot as plt\n",
    "\n",
    "#plt.style.use('evan')"
   ]
  },
  {
   "cell_type": "code",
   "execution_count": 109,
   "metadata": {},
   "outputs": [],
   "source": [
    "import numpy as np\n",
    "# This just ensures some comments in dataframes below display nicely\n",
    "import pandas as pd\n",
    "from multihist import Hist1d, Histdd\n",
    "from tqdm import tqdm\n",
    "pd.options.display.max_colwidth = 100"
   ]
  },
  {
   "cell_type": "code",
   "execution_count": 110,
   "metadata": {},
   "outputs": [],
   "source": [
    "import strax\n",
    "export, __all__ = strax.exporter()"
   ]
  },
  {
   "cell_type": "code",
   "execution_count": 111,
   "metadata": {},
   "outputs": [],
   "source": [
    "import straxen\n",
    "st = straxen.contexts.strax_workshop_dali()"
   ]
  },
  {
   "cell_type": "code",
   "execution_count": 112,
   "metadata": {},
   "outputs": [
    {
     "name": "stderr",
     "output_type": "stream",
     "text": [
      "Checking data availability: 100%|██████████| 5/5 [00:03<00:00,  1.11it/s]\n"
     ]
    },
    {
     "data": {
      "text/html": [
       "<div>\n",
       "<style scoped>\n",
       "    .dataframe tbody tr th:only-of-type {\n",
       "        vertical-align: middle;\n",
       "    }\n",
       "\n",
       "    .dataframe tbody tr th {\n",
       "        vertical-align: top;\n",
       "    }\n",
       "\n",
       "    .dataframe thead th {\n",
       "        text-align: right;\n",
       "    }\n",
       "</style>\n",
       "<table border=\"1\" class=\"dataframe\">\n",
       "  <thead>\n",
       "    <tr style=\"text-align: right;\">\n",
       "      <th></th>\n",
       "      <th>number</th>\n",
       "      <th>name</th>\n",
       "    </tr>\n",
       "  </thead>\n",
       "  <tbody>\n",
       "    <tr>\n",
       "      <th>30</th>\n",
       "      <td>16985</td>\n",
       "      <td>180219_1049</td>\n",
       "    </tr>\n",
       "  </tbody>\n",
       "</table>\n",
       "</div>"
      ],
      "text/plain": [
       "    number         name\n",
       "30   16985  180219_1049"
      ]
     },
     "execution_count": 112,
     "metadata": {},
     "output_type": "execute_result"
    }
   ],
   "source": [
    "runs = st.select_runs(include_tags='spe_topbulk')\n",
    "\n",
    "runs[['number', 'name']]"
   ]
  },
  {
   "cell_type": "code",
   "execution_count": 113,
   "metadata": {},
   "outputs": [],
   "source": [
    "dataset = runs['name'].values[0]"
   ]
  },
  {
   "cell_type": "code",
   "execution_count": 114,
   "metadata": {},
   "outputs": [
    {
     "data": {
      "text/html": [
       "<div>\n",
       "<style scoped>\n",
       "    .dataframe tbody tr th:only-of-type {\n",
       "        vertical-align: middle;\n",
       "    }\n",
       "\n",
       "    .dataframe tbody tr th {\n",
       "        vertical-align: top;\n",
       "    }\n",
       "\n",
       "    .dataframe thead th {\n",
       "        text-align: right;\n",
       "    }\n",
       "</style>\n",
       "<table border=\"1\" class=\"dataframe\">\n",
       "  <thead>\n",
       "    <tr style=\"text-align: right;\">\n",
       "      <th></th>\n",
       "      <th>Field name</th>\n",
       "      <th>Data type</th>\n",
       "      <th>Comment</th>\n",
       "    </tr>\n",
       "  </thead>\n",
       "  <tbody>\n",
       "    <tr>\n",
       "      <th>0</th>\n",
       "      <td>channel</td>\n",
       "      <td>int16</td>\n",
       "      <td>Channel/PMT number</td>\n",
       "    </tr>\n",
       "    <tr>\n",
       "      <th>1</th>\n",
       "      <td>dt</td>\n",
       "      <td>int16</td>\n",
       "      <td>Time resolution in ns</td>\n",
       "    </tr>\n",
       "    <tr>\n",
       "      <th>2</th>\n",
       "      <td>time</td>\n",
       "      <td>int64</td>\n",
       "      <td>Start time of the interval (ns since unix epoch)</td>\n",
       "    </tr>\n",
       "    <tr>\n",
       "      <th>3</th>\n",
       "      <td>length</td>\n",
       "      <td>int32</td>\n",
       "      <td>Length of the interval in samples</td>\n",
       "    </tr>\n",
       "    <tr>\n",
       "      <th>4</th>\n",
       "      <td>area</td>\n",
       "      <td>int32</td>\n",
       "      <td>Integral in ADC x samples</td>\n",
       "    </tr>\n",
       "    <tr>\n",
       "      <th>5</th>\n",
       "      <td>pulse_length</td>\n",
       "      <td>int32</td>\n",
       "      <td>Length of pulse to which the record belongs (without zero-padding)</td>\n",
       "    </tr>\n",
       "    <tr>\n",
       "      <th>6</th>\n",
       "      <td>record_i</td>\n",
       "      <td>int16</td>\n",
       "      <td>Fragment number in the pulse</td>\n",
       "    </tr>\n",
       "    <tr>\n",
       "      <th>7</th>\n",
       "      <td>baseline</td>\n",
       "      <td>float32</td>\n",
       "      <td>Baseline in ADC counts. data = int(baseline) - data_orig</td>\n",
       "    </tr>\n",
       "    <tr>\n",
       "      <th>8</th>\n",
       "      <td>reduction_level</td>\n",
       "      <td>uint8</td>\n",
       "      <td>Level of data reduction applied (strax.ReductionLevel enum)</td>\n",
       "    </tr>\n",
       "    <tr>\n",
       "      <th>9</th>\n",
       "      <td>data</td>\n",
       "      <td>('&lt;i2', (110,))</td>\n",
       "      <td>Waveform data in ADC counts above baseline</td>\n",
       "    </tr>\n",
       "  </tbody>\n",
       "</table>\n",
       "</div>"
      ],
      "text/plain": [
       "        Field name        Data type  \\\n",
       "0          channel            int16   \n",
       "1               dt            int16   \n",
       "2             time            int64   \n",
       "3           length            int32   \n",
       "4             area            int32   \n",
       "5     pulse_length            int32   \n",
       "6         record_i            int16   \n",
       "7         baseline          float32   \n",
       "8  reduction_level            uint8   \n",
       "9             data  ('<i2', (110,))   \n",
       "\n",
       "                                                              Comment  \n",
       "0                                                  Channel/PMT number  \n",
       "1                                               Time resolution in ns  \n",
       "2                    Start time of the interval (ns since unix epoch)  \n",
       "3                                   Length of the interval in samples  \n",
       "4                                           Integral in ADC x samples  \n",
       "5  Length of pulse to which the record belongs (without zero-padding)  \n",
       "6                                        Fragment number in the pulse  \n",
       "7            Baseline in ADC counts. data = int(baseline) - data_orig  \n",
       "8         Level of data reduction applied (strax.ReductionLevel enum)  \n",
       "9                          Waveform data in ADC counts above baseline  "
      ]
     },
     "execution_count": 114,
     "metadata": {},
     "output_type": "execute_result"
    }
   ],
   "source": [
    "st.data_info('raw_records')"
   ]
  },
  {
   "cell_type": "code",
   "execution_count": 116,
   "metadata": {},
   "outputs": [
    {
     "data": {
      "text/plain": [
       "'180219_1049'"
      ]
     },
     "execution_count": 116,
     "metadata": {},
     "output_type": "execute_result"
    }
   ],
   "source": [
    "dataset"
   ]
  },
  {
   "cell_type": "code",
   "execution_count": 115,
   "metadata": {},
   "outputs": [
    {
     "name": "stderr",
     "output_type": "stream",
     "text": [
      "Not saving raw_records while selecting a time range in the run\n"
     ]
    }
   ],
   "source": [
    "arr = st.get_array(dataset, 'raw_records', seconds_range=(0, 20))"
   ]
  },
  {
   "cell_type": "code",
   "execution_count": 60,
   "metadata": {},
   "outputs": [
    {
     "data": {
      "text/plain": [
       "(2067306, 600)"
      ]
     },
     "execution_count": 60,
     "metadata": {},
     "output_type": "execute_result"
    }
   ],
   "source": [
    "arr['data'].shape"
   ]
  },
  {
   "cell_type": "code",
   "execution_count": 61,
   "metadata": {},
   "outputs": [],
   "source": [
    "ch = 0\n",
    "arr_ch = arr[arr['channel'] == ch]\n",
    "\n"
   ]
  },
  {
   "cell_type": "code",
   "execution_count": 62,
   "metadata": {},
   "outputs": [],
   "source": [
    "def get_wf(arr):\n",
    "    for el in arr:\n",
    "        yield el['data']\n",
    "        \n",
    "wf_gen = get_wf(arr_ch)"
   ]
  },
  {
   "cell_type": "code",
   "execution_count": 63,
   "metadata": {},
   "outputs": [
    {
     "data": {
      "text/plain": [
       "(600,)"
      ]
     },
     "execution_count": 63,
     "metadata": {},
     "output_type": "execute_result"
    }
   ],
   "source": [
    "pulse = next(wf_gen)\n",
    "pulse.shape"
   ]
  },
  {
   "cell_type": "code",
   "execution_count": 64,
   "metadata": {},
   "outputs": [
    {
     "data": {
      "image/png": "[encoded data removed]",
      "text/plain": [
       "<Figure size 432x288 with 1 Axes>"
      ]
     },
     "metadata": {
      "needs_background": "light"
     },
     "output_type": "display_data"
    }
   ],
   "source": [
    "pulse = next(wf_gen)\n",
    "plt.plot(pulse, drawstyle='steps-mid')\n",
    "plt.xlabel('samples')\n",
    "plt.ylabel('adc counts / sample')\n",
    "plt.show()"
   ]
  },
  {
   "cell_type": "code",
   "execution_count": 65,
   "metadata": {},
   "outputs": [],
   "source": [
    "from scipy.stats import norm\n",
    "from scipy.optimize import curve_fit\n",
    "\n",
    "\n",
    "def gaus(x, *pars):\n",
    "    N, mu, sigma = pars\n",
    "    return N*norm.pdf(x, loc=mu, scale=sigma)\n",
    "\n"
   ]
  },
  {
   "cell_type": "code",
   "execution_count": 66,
   "metadata": {},
   "outputs": [],
   "source": [
    "channels = np.arange(248)"
   ]
  },
  {
   "cell_type": "code",
   "execution_count": 69,
   "metadata": {},
   "outputs": [
    {
     "name": "stderr",
     "output_type": "stream",
     "text": [
      "100%|██████████| 248/248 [02:16<00:00,  1.83it/s]\n"
     ]
    }
   ],
   "source": [
    "thresh = 20\n",
    "off_channels = []\n",
    "means = []\n",
    "sigmas = []\n",
    "\n",
    "for ch in tqdm(channels):\n",
    "    arr_ch = arr[arr['channel'] == ch]\n",
    "    amps = []\n",
    "    for a in arr_ch:\n",
    "        pulse = a['data']\n",
    "        amps.append(max(pulse))\n",
    "        \n",
    "    # make histogram\n",
    "    h = Hist1d(amps, bins=np.linspace(0,500,200))\n",
    "\n",
    "    idx = np.where(h.bin_centers > thresh)[0]\n",
    "    try:\n",
    "        fit, cov = curve_fit(gaus, h.bin_centers[idx], h.histogram[idx], p0=[2000, 100, 20])\n",
    "        means.append(fit[1])\n",
    "        sigmas.append(fit[2])\n",
    "        if fit[1] < 15:\n",
    "            off_channels.append(ch)\n",
    "    except:\n",
    "        off_channels.append(ch)\n",
    "        means.append(0)\n",
    "        sigmas.append(0)"
   ]
  },
  {
   "cell_type": "code",
   "execution_count": 70,
   "metadata": {},
   "outputs": [
    {
     "data": {
      "text/plain": [
       "[31, 203, 214]"
      ]
     },
     "execution_count": 70,
     "metadata": {},
     "output_type": "execute_result"
    }
   ],
   "source": [
    "off_channels"
   ]
  },
  {
   "cell_type": "code",
   "execution_count": 71,
   "metadata": {},
   "outputs": [
    {
     "data": {
      "text/plain": [
       "Text(0.5, 0, 'SPE amplitude mean')"
      ]
     },
     "execution_count": 71,
     "metadata": {},
     "output_type": "execute_result"
    },
    {
     "data": {
      "image/png": "[encoded data removed]",
      "text/plain": [
       "<Figure size 432x288 with 1 Axes>"
      ]
     },
     "metadata": {
      "needs_background": "light"
     },
     "output_type": "display_data"
    }
   ],
   "source": [
    "h = Hist1d(means, bins=np.linspace(0, 300, 50))\n",
    "h.plot()\n",
    "plt.xlabel('SPE amplitude mean')"
   ]
  },
  {
   "cell_type": "code",
   "execution_count": 72,
   "metadata": {},
   "outputs": [
    {
     "data": {
      "image/png": "[encoded data removed]",
      "text/plain": [
       "<Figure size 432x288 with 1 Axes>"
      ]
     },
     "metadata": {
      "needs_background": "light"
     },
     "output_type": "display_data"
    }
   ],
   "source": [
    "h = Hist1d(amps, bins=np.linspace(0,300,100))\n",
    "\n",
    "thresh = 20\n",
    "idx = np.where(h.bin_centers > thresh)[0]\n",
    "\n",
    "fit, cov = curve_fit(gaus, h.bin_centers[idx], h.histogram[idx], p0=[2000, 100, 20])\n",
    "\n",
    "h.plot()\n",
    "plt.plot(h.bin_centers, gaus(h.bin_centers, *fit), color='red')\n",
    "plt.yscale('log')\n",
    "plt.ylim(1, 1e4 )\n",
    "plt.xlabel('amplitude')\n",
    "plt.ylabel('counts/bin')\n",
    "plt.show()"
   ]
  },
  {
   "cell_type": "code",
   "execution_count": 87,
   "metadata": {},
   "outputs": [
    {
     "name": "stderr",
     "output_type": "stream",
     "text": [
      "100%|██████████| 248/248 [00:41<00:00,  6.01it/s]\n"
     ]
    }
   ],
   "source": [
    "h = Histdd(axis_names=['SPE arrival time [samples]', 'channel'], \n",
    "           bins=[np.linspace(0, 600, 100), np.linspace(0, 248, 249)])\n",
    "for ch in tqdm(channels):\n",
    "    arr_ch = arr[arr['channel'] == ch]\n",
    "    mu, sig = means[ch], sigmas[ch]\n",
    "    times = []\n",
    "    for a in arr_ch:\n",
    "        pulse = a['data']\n",
    "        # find regions where amplitude falls in SPE mean region \n",
    "        idx = np.where((mu-0.5*sig < pulse) & (pulse < mu + sig))[0]\n",
    "        times.extend(idx)\n",
    "    chlist = np.ones_like(times) * ch\n",
    "    \n",
    "    h.add(times, chlist)\n",
    "        "
   ]
  },
  {
   "cell_type": "code",
   "execution_count": 88,
   "metadata": {},
   "outputs": [
    {
     "data": {
      "image/png": "[encoded data removed]",
      "text/plain": [
       "<Figure size 432x288 with 2 Axes>"
      ]
     },
     "metadata": {
      "needs_background": "light"
     },
     "output_type": "display_data"
    }
   ],
   "source": [
    "h.plot(log_scale=True)\n",
    "plt.ylim(-10, 258)\n",
    "plt.show()"
   ]
  },
  {
   "cell_type": "code",
   "execution_count": 89,
   "metadata": {},
   "outputs": [
    {
     "data": {
      "image/png": "[encoded data removed]",
      "text/plain": [
       "<Figure size 432x288 with 1 Axes>"
      ]
     },
     "metadata": {
      "needs_background": "light"
     },
     "output_type": "display_data"
    }
   ],
   "source": [
    "# select only top pmts\n",
    "\n",
    "window = (125, 250)\n",
    "\n",
    "hslice = h.slice(0, 148, axis=1)\n",
    "\n",
    "hproj = hslice.projection(axis=0)\n",
    "\n",
    "hproj.plot()\n",
    "plt.yscale('log')\n",
    "plt.xlabel(\"Samples in SPE range\")\n",
    "plt.ylabel('arb. units')\n",
    "plt.axvspan(*window, color='grey', alpha=0.1)\n",
    "plt.show()"
   ]
  },
  {
   "cell_type": "code",
   "execution_count": 138,
   "metadata": {},
   "outputs": [],
   "source": [
    "def get_amplitude(raw_records, window, dtype):\n",
    "    ret = []\n",
    "    for r in raw_records:\n",
    "        wf = r['data'][window[0]:window[1]]\n",
    "        amp = wf.max()\n",
    "        ret.append((amp, r['channel'], r['time']))\n",
    "    ret = np.array(ret, dtype=dtype)\n",
    "    return ret\n",
    "        "
   ]
  },
  {
   "cell_type": "code",
   "execution_count": 139,
   "metadata": {},
   "outputs": [],
   "source": [
    "@export\n",
    "@strax.takes_config(\n",
    "    strax.Option(\n",
    "        'LED_window',\n",
    "        default=(125, 250),\n",
    "        help=\"Window (samples) where we expect signal in LED calibration\"))\n",
    "\n",
    "class LEDCal(strax.Plugin):\n",
    "    __version__ = '0.0.1'\n",
    "\n",
    "    depends_on = ('raw_records',)\n",
    "    data_kind = 'led_cal'\n",
    "    compressor = 'zstd'\n",
    "    parallel = 'process'\n",
    "    rechunk_on_save = False\n",
    "    dtype = [('amplitude', np.int32, 'Amplitude in LED window'),\n",
    "             ('channel', np.int16, 'Channel'),\n",
    "             ('time', np.int64, 'Start time of the interval (ns since unix epoch)')\n",
    "            ]\n",
    "\n",
    "    def compute(self, raw_records):\n",
    "        # Remove records from funny channels (if present)\n",
    "        r = raw_records[raw_records['channel'] < 248] # hardcoded for now\n",
    "        \n",
    "        return get_amplitude(r, self.config['LED_window'], self.dtype)\n",
    "            \n"
   ]
  },
  {
   "cell_type": "code",
   "execution_count": 140,
   "metadata": {},
   "outputs": [
    {
     "data": {
      "text/plain": [
       "__main__.LEDCal"
      ]
     },
     "execution_count": 140,
     "metadata": {},
     "output_type": "execute_result"
    }
   ],
   "source": [
    "ctext = straxen.contexts.strax_workshop_dali()\n",
    "ctext.register(LEDCal)"
   ]
  },
  {
   "cell_type": "code",
   "execution_count": 141,
   "metadata": {},
   "outputs": [
    {
     "data": {
      "text/html": [
       "<div>\n",
       "<style scoped>\n",
       "    .dataframe tbody tr th:only-of-type {\n",
       "        vertical-align: middle;\n",
       "    }\n",
       "\n",
       "    .dataframe tbody tr th {\n",
       "        vertical-align: top;\n",
       "    }\n",
       "\n",
       "    .dataframe thead th {\n",
       "        text-align: right;\n",
       "    }\n",
       "</style>\n",
       "<table border=\"1\" class=\"dataframe\">\n",
       "  <thead>\n",
       "    <tr style=\"text-align: right;\">\n",
       "      <th></th>\n",
       "      <th>Field name</th>\n",
       "      <th>Data type</th>\n",
       "      <th>Comment</th>\n",
       "    </tr>\n",
       "  </thead>\n",
       "  <tbody>\n",
       "    <tr>\n",
       "      <th>0</th>\n",
       "      <td>amplitude</td>\n",
       "      <td>int32</td>\n",
       "      <td>Amplitude in LED window</td>\n",
       "    </tr>\n",
       "    <tr>\n",
       "      <th>1</th>\n",
       "      <td>channel</td>\n",
       "      <td>int16</td>\n",
       "      <td>Channel</td>\n",
       "    </tr>\n",
       "    <tr>\n",
       "      <th>2</th>\n",
       "      <td>time</td>\n",
       "      <td>int64</td>\n",
       "      <td>Start time of the interval (ns since unix epoch)</td>\n",
       "    </tr>\n",
       "  </tbody>\n",
       "</table>\n",
       "</div>"
      ],
      "text/plain": [
       "  Field name Data type                                           Comment\n",
       "0  amplitude     int32                           Amplitude in LED window\n",
       "1    channel     int16                                           Channel\n",
       "2       time     int64  Start time of the interval (ns since unix epoch)"
      ]
     },
     "execution_count": 141,
     "metadata": {},
     "output_type": "execute_result"
    }
   ],
   "source": [
    "ctext.data_info('led_cal')"
   ]
  },
  {
   "cell_type": "code",
   "execution_count": 142,
   "metadata": {},
   "outputs": [
    {
     "name": "stdout",
     "output_type": "stream",
     "text": [
      "Removing data in ./strax_data/180219_1049-led_cal-q3offybolo to overwrite\n"
     ]
    },
    {
     "name": "stderr",
     "output_type": "stream",
     "text": [
      "Exception in thread save_0:led_cal:\n",
      "Traceback (most recent call last):\n",
      "  File \"/dali/lgrandi/strax/miniconda3/envs/strax/lib/python3.6/threading.py\", line 916, in _bootstrap_inner\n",
      "    self.run()\n",
      "  File \"/dali/lgrandi/strax/miniconda3/envs/strax/lib/python3.6/threading.py\", line 864, in run\n",
      "    self._target(*self._args, **self._kwargs)\n",
      "  File \"/dali/lgrandi/strax/strax/strax/storage/common.py\", line 457, in save_from\n",
      "    source.throw(e)\n",
      "  File \"/dali/lgrandi/strax/strax/strax/mailbox.py\", line 323, in _read\n",
      "    self.kill_from_exception(e)\n",
      "  File \"/dali/lgrandi/strax/strax/strax/mailbox.py\", line 153, in kill_from_exception\n",
      "    raise e\n",
      "  File \"/dali/lgrandi/strax/strax/strax/mailbox.py\", line 320, in _read\n",
      "    yield res\n",
      "  File \"/dali/lgrandi/strax/strax/strax/storage/common.py\", line 441, in save_from\n",
      "    new_f = self.save(data=s, chunk_i=chunk_i, executor=executor)\n",
      "  File \"/dali/lgrandi/strax/strax/strax/storage/common.py\", line 476, in save\n",
      "    chunk_info[f'{desc}_endtime'] = int(strax.endtime(data[i]))\n",
      "  File \"/dali/lgrandi/strax/strax/strax/processing/general.py\", line 43, in endtime\n",
      "    return x['time'] + x['length'] * x['dt']\n",
      "ValueError: no field of name length\n",
      "\n"
     ]
    },
    {
     "ename": "ValueError",
     "evalue": "no field of name length",
     "output_type": "error",
     "traceback": [
      "\u001b[0;31m---------------------------------------------------------------------------\u001b[0m",
      "\u001b[0;31mValueError\u001b[0m                                Traceback (most recent call last)",
      "\u001b[0;32m<ipython-input-142-30665df889f3>\u001b[0m in \u001b[0;36m<module>\u001b[0;34m\u001b[0m\n\u001b[0;32m----> 1\u001b[0;31m \u001b[0mdf\u001b[0m \u001b[0;34m=\u001b[0m \u001b[0mctext\u001b[0m\u001b[0;34m.\u001b[0m\u001b[0mget_df\u001b[0m\u001b[0;34m(\u001b[0m\u001b[0mdataset\u001b[0m\u001b[0;34m,\u001b[0m \u001b[0;34m'led_cal'\u001b[0m\u001b[0;34m)\u001b[0m\u001b[0;34m\u001b[0m\u001b[0;34m\u001b[0m\u001b[0m\n\u001b[0m",
      "\u001b[0;32m/dali/lgrandi/strax/strax/strax/context.py\u001b[0m in \u001b[0;36mget_df\u001b[0;34m(self, run_id, targets, save, max_workers, **kwargs)\u001b[0m\n\u001b[1;32m    695\u001b[0m         df = self.get_array(\n\u001b[1;32m    696\u001b[0m             \u001b[0mrun_id\u001b[0m\u001b[0;34m,\u001b[0m \u001b[0mtargets\u001b[0m\u001b[0;34m,\u001b[0m\u001b[0;34m\u001b[0m\u001b[0;34m\u001b[0m\u001b[0m\n\u001b[0;32m--> 697\u001b[0;31m             save=save, max_workers=max_workers, **kwargs)\n\u001b[0m\u001b[1;32m    698\u001b[0m         \u001b[0;32mtry\u001b[0m\u001b[0;34m:\u001b[0m\u001b[0;34m\u001b[0m\u001b[0;34m\u001b[0m\u001b[0m\n\u001b[1;32m    699\u001b[0m             \u001b[0;32mreturn\u001b[0m \u001b[0mpd\u001b[0m\u001b[0;34m.\u001b[0m\u001b[0mDataFrame\u001b[0m\u001b[0;34m.\u001b[0m\u001b[0mfrom_records\u001b[0m\u001b[0;34m(\u001b[0m\u001b[0mdf\u001b[0m\u001b[0;34m)\u001b[0m\u001b[0;34m\u001b[0m\u001b[0;34m\u001b[0m\u001b[0m\n",
      "\u001b[0;32m/dali/lgrandi/strax/strax/strax/context.py\u001b[0m in \u001b[0;36mget_array\u001b[0;34m(self, run_id, targets, save, max_workers, **kwargs)\u001b[0m\n\u001b[1;32m    682\u001b[0m             results = list(self.get_iter(run_ids[0], targets,\n\u001b[1;32m    683\u001b[0m                                          \u001b[0msave\u001b[0m\u001b[0;34m=\u001b[0m\u001b[0msave\u001b[0m\u001b[0;34m,\u001b[0m \u001b[0mmax_workers\u001b[0m\u001b[0;34m=\u001b[0m\u001b[0mmax_workers\u001b[0m\u001b[0;34m,\u001b[0m\u001b[0;34m\u001b[0m\u001b[0;34m\u001b[0m\u001b[0m\n\u001b[0;32m--> 684\u001b[0;31m                                          **kwargs))\n\u001b[0m\u001b[1;32m    685\u001b[0m         \u001b[0;32mif\u001b[0m \u001b[0mlen\u001b[0m\u001b[0;34m(\u001b[0m\u001b[0mresults\u001b[0m\u001b[0;34m)\u001b[0m\u001b[0;34m:\u001b[0m\u001b[0;34m\u001b[0m\u001b[0;34m\u001b[0m\u001b[0m\n\u001b[1;32m    686\u001b[0m             \u001b[0;32mreturn\u001b[0m \u001b[0mnp\u001b[0m\u001b[0;34m.\u001b[0m\u001b[0mconcatenate\u001b[0m\u001b[0;34m(\u001b[0m\u001b[0mresults\u001b[0m\u001b[0;34m)\u001b[0m\u001b[0;34m\u001b[0m\u001b[0;34m\u001b[0m\u001b[0m\n",
      "\u001b[0;32m/dali/lgrandi/strax/strax/strax/context.py\u001b[0m in \u001b[0;36mget_iter\u001b[0;34m(self, run_id, targets, save, max_workers, time_range, seconds_range, selection, **kwargs)\u001b[0m\n\u001b[1;32m    638\u001b[0m                 \u001b[0mallow_shm\u001b[0m\u001b[0;34m=\u001b[0m\u001b[0mself\u001b[0m\u001b[0;34m.\u001b[0m\u001b[0mcontext_config\u001b[0m\u001b[0;34m[\u001b[0m\u001b[0;34m'allow_shm'\u001b[0m\u001b[0;34m]\u001b[0m\u001b[0;34m,\u001b[0m\u001b[0;34m\u001b[0m\u001b[0;34m\u001b[0m\u001b[0m\n\u001b[1;32m    639\u001b[0m                 \u001b[0mallow_multiprocess\u001b[0m\u001b[0;34m=\u001b[0m\u001b[0mself\u001b[0m\u001b[0;34m.\u001b[0m\u001b[0mcontext_config\u001b[0m\u001b[0;34m[\u001b[0m\u001b[0;34m'allow_multiprocess'\u001b[0m\u001b[0;34m]\u001b[0m\u001b[0;34m,\u001b[0m\u001b[0;34m\u001b[0m\u001b[0;34m\u001b[0m\u001b[0m\n\u001b[0;32m--> 640\u001b[0;31m                 allow_rechunk=self.context_config['allow_rechunk']).iter():\n\u001b[0m\u001b[1;32m    641\u001b[0m             \u001b[0;32mif\u001b[0m \u001b[0mselection\u001b[0m \u001b[0;32mis\u001b[0m \u001b[0;32mnot\u001b[0m \u001b[0;32mNone\u001b[0m\u001b[0;34m:\u001b[0m\u001b[0;34m\u001b[0m\u001b[0;34m\u001b[0m\u001b[0m\n\u001b[1;32m    642\u001b[0m                 mask = numexpr.evaluate(selection, local_dict={\n",
      "\u001b[0;32m/dali/lgrandi/strax/strax/strax/processor.py\u001b[0m in \u001b[0;36miter\u001b[0;34m(self)\u001b[0m\n\u001b[1;32m    189\u001b[0m             \u001b[0;31m# which is printed for the user\u001b[0m\u001b[0;34m\u001b[0m\u001b[0;34m\u001b[0m\u001b[0;34m\u001b[0m\u001b[0m\n\u001b[1;32m    190\u001b[0m             \u001b[0mself\u001b[0m\u001b[0;34m.\u001b[0m\u001b[0mlog\u001b[0m\u001b[0;34m.\u001b[0m\u001b[0mdebug\u001b[0m\u001b[0;34m(\u001b[0m\u001b[0;34m\"Reraising exception\"\u001b[0m\u001b[0;34m)\u001b[0m\u001b[0;34m\u001b[0m\u001b[0;34m\u001b[0m\u001b[0m\n\u001b[0;32m--> 191\u001b[0;31m             \u001b[0;32mraise\u001b[0m \u001b[0mexc\u001b[0m\u001b[0;34m.\u001b[0m\u001b[0mwith_traceback\u001b[0m\u001b[0;34m(\u001b[0m\u001b[0mtraceback\u001b[0m\u001b[0;34m)\u001b[0m\u001b[0;34m\u001b[0m\u001b[0;34m\u001b[0m\u001b[0m\n\u001b[0m\u001b[1;32m    192\u001b[0m \u001b[0;34m\u001b[0m\u001b[0m\n\u001b[1;32m    193\u001b[0m         \u001b[0;31m# Check the savers for any exception that occurred during saving\u001b[0m\u001b[0;34m\u001b[0m\u001b[0;34m\u001b[0m\u001b[0;34m\u001b[0m\u001b[0m\n",
      "\u001b[0;32m/dali/lgrandi/strax/strax/strax/mailbox.py\u001b[0m in \u001b[0;36m_read\u001b[0;34m(self, subscriber_i)\u001b[0m\n\u001b[1;32m    318\u001b[0m \u001b[0;34m\u001b[0m\u001b[0m\n\u001b[1;32m    319\u001b[0m                 \u001b[0;32mtry\u001b[0m\u001b[0;34m:\u001b[0m\u001b[0;34m\u001b[0m\u001b[0;34m\u001b[0m\u001b[0m\n\u001b[0;32m--> 320\u001b[0;31m                     \u001b[0;32myield\u001b[0m \u001b[0mres\u001b[0m\u001b[0;34m\u001b[0m\u001b[0;34m\u001b[0m\u001b[0m\n\u001b[0m\u001b[1;32m    321\u001b[0m                 \u001b[0;32mexcept\u001b[0m \u001b[0mException\u001b[0m \u001b[0;32mas\u001b[0m \u001b[0me\u001b[0m\u001b[0;34m:\u001b[0m\u001b[0;34m\u001b[0m\u001b[0;34m\u001b[0m\u001b[0m\n\u001b[1;32m    322\u001b[0m                     \u001b[0;31m# TODO: Should I also handle timeout errors like this?\u001b[0m\u001b[0;34m\u001b[0m\u001b[0;34m\u001b[0m\u001b[0;34m\u001b[0m\u001b[0m\n",
      "\u001b[0;32m/dali/lgrandi/strax/strax/strax/storage/common.py\u001b[0m in \u001b[0;36msave_from\u001b[0;34m(self, source, rechunk, executor)\u001b[0m\n\u001b[1;32m    439\u001b[0m         \u001b[0;32mtry\u001b[0m\u001b[0;34m:\u001b[0m\u001b[0;34m\u001b[0m\u001b[0;34m\u001b[0m\u001b[0m\n\u001b[1;32m    440\u001b[0m             \u001b[0;32mfor\u001b[0m \u001b[0mchunk_i\u001b[0m\u001b[0;34m,\u001b[0m \u001b[0ms\u001b[0m \u001b[0;32min\u001b[0m \u001b[0menumerate\u001b[0m\u001b[0;34m(\u001b[0m\u001b[0msource\u001b[0m\u001b[0;34m)\u001b[0m\u001b[0;34m:\u001b[0m\u001b[0;34m\u001b[0m\u001b[0;34m\u001b[0m\u001b[0m\n\u001b[0;32m--> 441\u001b[0;31m                 \u001b[0mnew_f\u001b[0m \u001b[0;34m=\u001b[0m \u001b[0mself\u001b[0m\u001b[0;34m.\u001b[0m\u001b[0msave\u001b[0m\u001b[0;34m(\u001b[0m\u001b[0mdata\u001b[0m\u001b[0;34m=\u001b[0m\u001b[0ms\u001b[0m\u001b[0;34m,\u001b[0m \u001b[0mchunk_i\u001b[0m\u001b[0;34m=\u001b[0m\u001b[0mchunk_i\u001b[0m\u001b[0;34m,\u001b[0m \u001b[0mexecutor\u001b[0m\u001b[0;34m=\u001b[0m\u001b[0mexecutor\u001b[0m\u001b[0;34m)\u001b[0m\u001b[0;34m\u001b[0m\u001b[0;34m\u001b[0m\u001b[0m\n\u001b[0m\u001b[1;32m    442\u001b[0m                 \u001b[0;32mif\u001b[0m \u001b[0mnew_f\u001b[0m \u001b[0;32mis\u001b[0m \u001b[0;32mnot\u001b[0m \u001b[0;32mNone\u001b[0m\u001b[0;34m:\u001b[0m\u001b[0;34m\u001b[0m\u001b[0;34m\u001b[0m\u001b[0m\n\u001b[1;32m    443\u001b[0m                     pending = [f for f in pending + [new_f]\n",
      "\u001b[0;32m/dali/lgrandi/strax/strax/strax/storage/common.py\u001b[0m in \u001b[0;36msave\u001b[0;34m(self, data, chunk_i, executor)\u001b[0m\n\u001b[1;32m    474\u001b[0m             \u001b[0;32mfor\u001b[0m \u001b[0mdesc\u001b[0m\u001b[0;34m,\u001b[0m \u001b[0mi\u001b[0m \u001b[0;32min\u001b[0m \u001b[0;34m(\u001b[0m\u001b[0;34m(\u001b[0m\u001b[0;34m'first'\u001b[0m\u001b[0;34m,\u001b[0m \u001b[0;36m0\u001b[0m\u001b[0;34m)\u001b[0m\u001b[0;34m,\u001b[0m \u001b[0;34m(\u001b[0m\u001b[0;34m'last'\u001b[0m\u001b[0;34m,\u001b[0m \u001b[0;34m-\u001b[0m\u001b[0;36m1\u001b[0m\u001b[0;34m)\u001b[0m\u001b[0;34m)\u001b[0m\u001b[0;34m:\u001b[0m\u001b[0;34m\u001b[0m\u001b[0;34m\u001b[0m\u001b[0m\n\u001b[1;32m    475\u001b[0m                 \u001b[0mchunk_info\u001b[0m\u001b[0;34m[\u001b[0m\u001b[0;34mf'{desc}_time'\u001b[0m\u001b[0;34m]\u001b[0m \u001b[0;34m=\u001b[0m \u001b[0mint\u001b[0m\u001b[0;34m(\u001b[0m\u001b[0mdata\u001b[0m\u001b[0;34m[\u001b[0m\u001b[0mi\u001b[0m\u001b[0;34m]\u001b[0m\u001b[0;34m[\u001b[0m\u001b[0;34m'time'\u001b[0m\u001b[0;34m]\u001b[0m\u001b[0;34m)\u001b[0m\u001b[0;34m\u001b[0m\u001b[0;34m\u001b[0m\u001b[0m\n\u001b[0;32m--> 476\u001b[0;31m                 \u001b[0mchunk_info\u001b[0m\u001b[0;34m[\u001b[0m\u001b[0;34mf'{desc}_endtime'\u001b[0m\u001b[0;34m]\u001b[0m \u001b[0;34m=\u001b[0m \u001b[0mint\u001b[0m\u001b[0;34m(\u001b[0m\u001b[0mstrax\u001b[0m\u001b[0;34m.\u001b[0m\u001b[0mendtime\u001b[0m\u001b[0;34m(\u001b[0m\u001b[0mdata\u001b[0m\u001b[0;34m[\u001b[0m\u001b[0mi\u001b[0m\u001b[0;34m]\u001b[0m\u001b[0;34m)\u001b[0m\u001b[0;34m)\u001b[0m\u001b[0;34m\u001b[0m\u001b[0;34m\u001b[0m\u001b[0m\n\u001b[0m\u001b[1;32m    477\u001b[0m \u001b[0;34m\u001b[0m\u001b[0m\n\u001b[1;32m    478\u001b[0m         bonus_info, future = self._save_chunk(\n",
      "\u001b[0;32m/dali/lgrandi/strax/strax/strax/processing/general.py\u001b[0m in \u001b[0;36mendtime\u001b[0;34m(x)\u001b[0m\n\u001b[1;32m     41\u001b[0m     \u001b[0;32mif\u001b[0m \u001b[0;34m'endtime'\u001b[0m \u001b[0;32min\u001b[0m \u001b[0mx\u001b[0m\u001b[0;34m.\u001b[0m\u001b[0mdtype\u001b[0m\u001b[0;34m.\u001b[0m\u001b[0mnames\u001b[0m\u001b[0;34m:\u001b[0m\u001b[0;34m\u001b[0m\u001b[0;34m\u001b[0m\u001b[0m\n\u001b[1;32m     42\u001b[0m         \u001b[0;32mreturn\u001b[0m \u001b[0mx\u001b[0m\u001b[0;34m[\u001b[0m\u001b[0;34m'endtime'\u001b[0m\u001b[0;34m]\u001b[0m\u001b[0;34m\u001b[0m\u001b[0;34m\u001b[0m\u001b[0m\n\u001b[0;32m---> 43\u001b[0;31m     \u001b[0;32mreturn\u001b[0m \u001b[0mx\u001b[0m\u001b[0;34m[\u001b[0m\u001b[0;34m'time'\u001b[0m\u001b[0;34m]\u001b[0m \u001b[0;34m+\u001b[0m \u001b[0mx\u001b[0m\u001b[0;34m[\u001b[0m\u001b[0;34m'length'\u001b[0m\u001b[0;34m]\u001b[0m \u001b[0;34m*\u001b[0m \u001b[0mx\u001b[0m\u001b[0;34m[\u001b[0m\u001b[0;34m'dt'\u001b[0m\u001b[0;34m]\u001b[0m\u001b[0;34m\u001b[0m\u001b[0;34m\u001b[0m\u001b[0m\n\u001b[0m\u001b[1;32m     44\u001b[0m \u001b[0;34m\u001b[0m\u001b[0m\n\u001b[1;32m     45\u001b[0m \u001b[0;34m\u001b[0m\u001b[0m\n",
      "\u001b[0;31mValueError\u001b[0m: no field of name length"
     ]
    }
   ],
   "source": [
    "df = ctext.get_df(dataset, 'led_cal')"
   ]
  },
  {
   "cell_type": "code",
   "execution_count": null,
   "metadata": {},
   "outputs": [],
   "source": []
  }
 ],
 "metadata": {
  "kernelspec": {
   "display_name": "Python 3",
   "language": "python",
   "name": "python3"
  },
  "language_info": {
   "codemirror_mode": {
    "name": "ipython",
    "version": 3
   },
   "file_extension": ".py",
   "mimetype": "text/x-python",
   "name": "python",
   "nbconvert_exporter": "python",
   "pygments_lexer": "ipython3",
   "version": "3.6.8"
  }
 },
 "nbformat": 4,
 "nbformat_minor": 2
}
