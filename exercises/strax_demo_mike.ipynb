{
 "cells": [
  {
   "cell_type": "markdown",
   "metadata": {},
   "source": [
    "# Tutorial"
   ]
  },
  {
   "cell_type": "markdown",
   "metadata": {},
   "source": [
    "Jelle, updated May 2019\n",
    "\n",
    "This notebook shows how to do basic analysis with straxen, much like `hax.minitrees`."
   ]
  },
  {
   "cell_type": "markdown",
   "metadata": {},
   "source": [
    "For reference, here are some jargon terms which we will introduce below:\n",
    "\n",
    "  * **Context**: Holds configuration on how to process\n",
    "  * **Dataframe** or **array**: table of related information produced by a plugin.\n",
    "  * **Plugin**: an algorithm that produces a dataframe\n",
    "  * **Data type**: specification of which columns are in a dataframe. \n",
    "  * **Data kind**: e.g. 'events' or 'peaks'. Dataframes of the same kind  have the same number of rows and can be merged.\n"
   ]
  },
  {
   "cell_type": "code",
   "execution_count": 1,
   "metadata": {},
   "outputs": [],
   "source": [
    "import numpy as np\n",
    "# This just ensures some comments in dataframes below display nicely\n",
    "import pandas as pd\n",
    "pd.options.display.max_colwidth = 100"
   ]
  },
  {
   "cell_type": "markdown",
   "metadata": {},
   "source": [
    "## Setting up"
   ]
  },
  {
   "cell_type": "markdown",
   "metadata": {},
   "source": [
    "First we load a strax **context**, much like `hax.init()`. A strax context contains all information on *how* to process: where to read what files from, what plugins provide what data, etc. \n",
    "\n",
    "You can make a context yourselves using `strax.Context`, but straxen provides standardized contexts as well. Most future analyses will use such standardized contexts defined by analysis coordinators or straxen maintainers.\n",
    "\n",
    "Unlike `hax.init`, you can have multiple active contexts, e.g. to load analysis and MC data, or compare data processed with different settings (we will see examples of this below)."
   ]
  },
  {
   "cell_type": "code",
   "execution_count": 2,
   "metadata": {},
   "outputs": [],
   "source": [
    "import straxen\n",
    "#st = straxen.contexts.demo()\n",
    "st = straxen.contexts.strax_workshop_dali()"
   ]
  },
  {
   "cell_type": "markdown",
   "metadata": {},
   "source": [
    "## Finding your data"
   ]
  },
  {
   "cell_type": "markdown",
   "metadata": {},
   "source": [
    "Usually you'd be running on a XENON analysis facility with access to XENON data. This demo should run everywhere, so we'll have to download some data first:"
   ]
  },
  {
   "cell_type": "code",
   "execution_count": 3,
   "metadata": {},
   "outputs": [],
   "source": [
    "straxen.download_test_data()"
   ]
  },
  {
   "cell_type": "markdown",
   "metadata": {},
   "source": [
    "Suposse we want to make a cS1/cS2 plot. We have to figure out which type of **dataframes** to load. A specific type of dataframe is also called a **data type**. (in hax these were called minitrees)\n",
    "\n",
    "We can find this out automatically if we know (part of) the name of a field to load:"
   ]
  },
  {
   "cell_type": "code",
   "execution_count": null,
   "metadata": {},
   "outputs": [],
   "source": [
    "st.search_field('*s1')"
   ]
  },
  {
   "cell_type": "markdown",
   "metadata": {},
   "source": [
    "It seems we're after one of the data types called `event_info` or `corrected_areas`. In the current context, these are provided by **plugins** called EventInfo and CorrectedAreas, respectively (but this doesn't concern us yet). \n",
    "\n",
    "Let's see what else is in these data types:"
   ]
  },
  {
   "cell_type": "code",
   "execution_count": null,
   "metadata": {},
   "outputs": [],
   "source": [
    "st.data_info('peaks')"
   ]
  },
  {
   "cell_type": "code",
   "execution_count": null,
   "metadata": {},
   "outputs": [],
   "source": [
    "st.data_info('event_info')"
   ]
  },
  {
   "cell_type": "markdown",
   "metadata": {},
   "source": [
    "As you can see, `event_info` has a lot more information; let's load that one. You can see from the documentation (TODO link) that `event_info`'s job is to merge the info from `corrected_areas` and other things.\n"
   ]
  },
  {
   "cell_type": "markdown",
   "metadata": {},
   "source": [
    "## Loading data"
   ]
  },
  {
   "cell_type": "markdown",
   "metadata": {},
   "source": [
    "Next, you'll want to select a run. The `select_runs` function will return a dataframe with all available runs; there is a separate tutorial on more advanced use of this. In this demo context, we only have high-level data for the run `180215_1029` available (and low-level data for another):"
   ]
  },
  {
   "cell_type": "code",
   "execution_count": 6,
   "metadata": {},
   "outputs": [],
   "source": [
    "dset = st.select_runs(run_mode='background*')"
   ]
  },
  {
   "cell_type": "code",
   "execution_count": 7,
   "metadata": {},
   "outputs": [
    {
     "data": {
      "text/html": [
       "<div>\n",
       "<style scoped>\n",
       "    .dataframe tbody tr th:only-of-type {\n",
       "        vertical-align: middle;\n",
       "    }\n",
       "\n",
       "    .dataframe tbody tr th {\n",
       "        vertical-align: top;\n",
       "    }\n",
       "\n",
       "    .dataframe thead th {\n",
       "        text-align: right;\n",
       "    }\n",
       "</style>\n",
       "<table border=\"1\" class=\"dataframe\">\n",
       "  <thead>\n",
       "    <tr style=\"text-align: right;\">\n",
       "      <th></th>\n",
       "      <th>end</th>\n",
       "      <th>mode</th>\n",
       "      <th>name</th>\n",
       "      <th>number</th>\n",
       "      <th>reader.ini.name</th>\n",
       "      <th>start</th>\n",
       "      <th>tags</th>\n",
       "      <th>trigger.events_built</th>\n",
       "      <th>event_info_available</th>\n",
       "      <th>raw_records_available</th>\n",
       "      <th>peaks_available</th>\n",
       "      <th>events_available</th>\n",
       "      <th>records_available</th>\n",
       "    </tr>\n",
       "  </thead>\n",
       "  <tbody>\n",
       "    <tr>\n",
       "      <th>1</th>\n",
       "      <td>2017-06-21 07:17:25+00:00</td>\n",
       "      <td>background_stable</td>\n",
       "      <td>170621_0617</td>\n",
       "      <td>10635</td>\n",
       "      <td>background_stable</td>\n",
       "      <td>2017-06-21 06:17:24+00:00</td>\n",
       "      <td>blinded,_sciencerun1_candidate,_sciencerun1</td>\n",
       "      <td>19084.0</td>\n",
       "      <td>True</td>\n",
       "      <td>True</td>\n",
       "      <td>True</td>\n",
       "      <td>True</td>\n",
       "      <td>True</td>\n",
       "    </tr>\n",
       "    <tr>\n",
       "      <th>2</th>\n",
       "      <td>2018-02-15 10:30:55+00:00</td>\n",
       "      <td>background_triggerless</td>\n",
       "      <td>180215_1029</td>\n",
       "      <td>16854</td>\n",
       "      <td>background_triggerless</td>\n",
       "      <td>2018-02-15 10:29:52+00:00</td>\n",
       "      <td>_sciencerun2_candidate,_sciencerun2_preliminary</td>\n",
       "      <td>858.0</td>\n",
       "      <td>True</td>\n",
       "      <td>True</td>\n",
       "      <td>True</td>\n",
       "      <td>True</td>\n",
       "      <td>True</td>\n",
       "    </tr>\n",
       "    <tr>\n",
       "      <th>3</th>\n",
       "      <td>2018-02-16 14:24:47+00:00</td>\n",
       "      <td>background_triggerless</td>\n",
       "      <td>180216_1324</td>\n",
       "      <td>16887</td>\n",
       "      <td>background_triggerless</td>\n",
       "      <td>2018-02-16 13:24:43+00:00</td>\n",
       "      <td>_sciencerun2_candidate,_sciencerun2_preliminary</td>\n",
       "      <td>36292.0</td>\n",
       "      <td>True</td>\n",
       "      <td>True</td>\n",
       "      <td>True</td>\n",
       "      <td>True</td>\n",
       "      <td>True</td>\n",
       "    </tr>\n",
       "    <tr>\n",
       "      <th>4</th>\n",
       "      <td>2018-02-16 15:55:09+00:00</td>\n",
       "      <td>background_triggerless</td>\n",
       "      <td>180216_1455</td>\n",
       "      <td>16889</td>\n",
       "      <td>background_triggerless</td>\n",
       "      <td>2018-02-16 14:55:06+00:00</td>\n",
       "      <td>_sciencerun2_candidate,_sciencerun2_preliminary</td>\n",
       "      <td>36292.0</td>\n",
       "      <td>True</td>\n",
       "      <td>True</td>\n",
       "      <td>True</td>\n",
       "      <td>True</td>\n",
       "      <td>True</td>\n",
       "    </tr>\n",
       "    <tr>\n",
       "      <th>5</th>\n",
       "      <td>2018-02-16 17:25:29+00:00</td>\n",
       "      <td>background_triggerless</td>\n",
       "      <td>180216_1625</td>\n",
       "      <td>16891</td>\n",
       "      <td>background_triggerless</td>\n",
       "      <td>2018-02-16 16:25:26+00:00</td>\n",
       "      <td>_sciencerun2_candidate,_sciencerun2_preliminary</td>\n",
       "      <td>36292.0</td>\n",
       "      <td>True</td>\n",
       "      <td>True</td>\n",
       "      <td>True</td>\n",
       "      <td>True</td>\n",
       "      <td>True</td>\n",
       "    </tr>\n",
       "    <tr>\n",
       "      <th>6</th>\n",
       "      <td>2018-02-17 00:57:19+00:00</td>\n",
       "      <td>background_triggerless</td>\n",
       "      <td>180216_2357</td>\n",
       "      <td>16901</td>\n",
       "      <td>background_triggerless</td>\n",
       "      <td>2018-02-16 23:57:16+00:00</td>\n",
       "      <td>_sciencerun2_candidate,_sciencerun2_preliminary</td>\n",
       "      <td>36292.0</td>\n",
       "      <td>True</td>\n",
       "      <td>True</td>\n",
       "      <td>True</td>\n",
       "      <td>True</td>\n",
       "      <td>True</td>\n",
       "    </tr>\n",
       "    <tr>\n",
       "      <th>7</th>\n",
       "      <td>2018-02-17 02:27:41+00:00</td>\n",
       "      <td>background_triggerless</td>\n",
       "      <td>180217_0127</td>\n",
       "      <td>16903</td>\n",
       "      <td>background_triggerless</td>\n",
       "      <td>2018-02-17 01:27:38+00:00</td>\n",
       "      <td>_sciencerun2_candidate,_sciencerun2_preliminary</td>\n",
       "      <td>36292.0</td>\n",
       "      <td>True</td>\n",
       "      <td>True</td>\n",
       "      <td>True</td>\n",
       "      <td>True</td>\n",
       "      <td>True</td>\n",
       "    </tr>\n",
       "    <tr>\n",
       "      <th>8</th>\n",
       "      <td>2018-02-17 03:58:03+00:00</td>\n",
       "      <td>background_triggerless</td>\n",
       "      <td>180217_0257</td>\n",
       "      <td>16905</td>\n",
       "      <td>background_triggerless</td>\n",
       "      <td>2018-02-17 02:58:00+00:00</td>\n",
       "      <td>_sciencerun2_candidate,_sciencerun2_preliminary</td>\n",
       "      <td>36292.0</td>\n",
       "      <td>True</td>\n",
       "      <td>True</td>\n",
       "      <td>True</td>\n",
       "      <td>True</td>\n",
       "      <td>True</td>\n",
       "    </tr>\n",
       "    <tr>\n",
       "      <th>9</th>\n",
       "      <td>2018-02-17 05:28:23+00:00</td>\n",
       "      <td>background_triggerless</td>\n",
       "      <td>180217_0428</td>\n",
       "      <td>16907</td>\n",
       "      <td>background_triggerless</td>\n",
       "      <td>2018-02-17 04:28:20+00:00</td>\n",
       "      <td>_sciencerun2_candidate,_sciencerun2_preliminary</td>\n",
       "      <td>36292.0</td>\n",
       "      <td>True</td>\n",
       "      <td>True</td>\n",
       "      <td>True</td>\n",
       "      <td>True</td>\n",
       "      <td>True</td>\n",
       "    </tr>\n",
       "    <tr>\n",
       "      <th>10</th>\n",
       "      <td>2018-02-17 06:28:35+00:00</td>\n",
       "      <td>background_triggerless</td>\n",
       "      <td>180217_0528</td>\n",
       "      <td>16908</td>\n",
       "      <td>background_triggerless</td>\n",
       "      <td>2018-02-17 05:28:32+00:00</td>\n",
       "      <td>_sciencerun2_candidate,_sciencerun2_preliminary</td>\n",
       "      <td>36292.0</td>\n",
       "      <td>True</td>\n",
       "      <td>True</td>\n",
       "      <td>True</td>\n",
       "      <td>True</td>\n",
       "      <td>True</td>\n",
       "    </tr>\n",
       "    <tr>\n",
       "      <th>11</th>\n",
       "      <td>2018-02-17 12:30:14+00:00</td>\n",
       "      <td>background_triggerless</td>\n",
       "      <td>180217_1130</td>\n",
       "      <td>16916</td>\n",
       "      <td>background_triggerless</td>\n",
       "      <td>2018-02-17 11:30:11+00:00</td>\n",
       "      <td>_sciencerun2_candidate,_sciencerun2_preliminary</td>\n",
       "      <td>36292.0</td>\n",
       "      <td>True</td>\n",
       "      <td>True</td>\n",
       "      <td>True</td>\n",
       "      <td>True</td>\n",
       "      <td>True</td>\n",
       "    </tr>\n",
       "    <tr>\n",
       "      <th>12</th>\n",
       "      <td>2018-02-17 16:03:31+00:00</td>\n",
       "      <td>background_triggerless</td>\n",
       "      <td>180217_1503</td>\n",
       "      <td>16921</td>\n",
       "      <td>background_triggerless</td>\n",
       "      <td>2018-02-17 15:03:28+00:00</td>\n",
       "      <td>_sciencerun2_candidate,_sciencerun2_preliminary</td>\n",
       "      <td>36292.0</td>\n",
       "      <td>True</td>\n",
       "      <td>True</td>\n",
       "      <td>True</td>\n",
       "      <td>True</td>\n",
       "      <td>True</td>\n",
       "    </tr>\n",
       "    <tr>\n",
       "      <th>13</th>\n",
       "      <td>2018-02-17 21:05:04+00:00</td>\n",
       "      <td>background_triggerless</td>\n",
       "      <td>180217_2004</td>\n",
       "      <td>16928</td>\n",
       "      <td>background_triggerless</td>\n",
       "      <td>2018-02-17 20:05:01+00:00</td>\n",
       "      <td>_sciencerun2_candidate,_sciencerun2_preliminary</td>\n",
       "      <td>36292.0</td>\n",
       "      <td>True</td>\n",
       "      <td>True</td>\n",
       "      <td>True</td>\n",
       "      <td>True</td>\n",
       "      <td>True</td>\n",
       "    </tr>\n",
       "    <tr>\n",
       "      <th>14</th>\n",
       "      <td>2018-02-18 03:36:51+00:00</td>\n",
       "      <td>background_triggerless</td>\n",
       "      <td>180218_0236</td>\n",
       "      <td>16937</td>\n",
       "      <td>background_triggerless</td>\n",
       "      <td>2018-02-18 02:36:48+00:00</td>\n",
       "      <td>_sciencerun2_candidate,_sciencerun2_preliminary</td>\n",
       "      <td>36292.0</td>\n",
       "      <td>True</td>\n",
       "      <td>True</td>\n",
       "      <td>True</td>\n",
       "      <td>True</td>\n",
       "      <td>True</td>\n",
       "    </tr>\n",
       "    <tr>\n",
       "      <th>15</th>\n",
       "      <td>2018-02-18 09:38:32+00:00</td>\n",
       "      <td>background_triggerless</td>\n",
       "      <td>180218_0838</td>\n",
       "      <td>16945</td>\n",
       "      <td>background_triggerless</td>\n",
       "      <td>2018-02-18 08:38:29+00:00</td>\n",
       "      <td>_sciencerun2_candidate,_sciencerun2_preliminary</td>\n",
       "      <td>36292.0</td>\n",
       "      <td>True</td>\n",
       "      <td>True</td>\n",
       "      <td>True</td>\n",
       "      <td>True</td>\n",
       "      <td>True</td>\n",
       "    </tr>\n",
       "    <tr>\n",
       "      <th>16</th>\n",
       "      <td>2018-02-18 12:39:17+00:00</td>\n",
       "      <td>background_triggerless</td>\n",
       "      <td>180218_1139</td>\n",
       "      <td>16949</td>\n",
       "      <td>background_triggerless</td>\n",
       "      <td>2018-02-18 11:39:14+00:00</td>\n",
       "      <td>_sciencerun2_candidate,_sciencerun2_preliminary</td>\n",
       "      <td>36292.0</td>\n",
       "      <td>True</td>\n",
       "      <td>True</td>\n",
       "      <td>True</td>\n",
       "      <td>True</td>\n",
       "      <td>True</td>\n",
       "    </tr>\n",
       "    <tr>\n",
       "      <th>17</th>\n",
       "      <td>2018-02-18 15:40:12+00:00</td>\n",
       "      <td>background_triggerless</td>\n",
       "      <td>180218_1439</td>\n",
       "      <td>16953</td>\n",
       "      <td>background_triggerless</td>\n",
       "      <td>2018-02-18 14:40:09+00:00</td>\n",
       "      <td>_sciencerun2_candidate,_sciencerun2_preliminary</td>\n",
       "      <td>36292.0</td>\n",
       "      <td>True</td>\n",
       "      <td>True</td>\n",
       "      <td>True</td>\n",
       "      <td>True</td>\n",
       "      <td>True</td>\n",
       "    </tr>\n",
       "    <tr>\n",
       "      <th>18</th>\n",
       "      <td>2018-02-18 17:10:34+00:00</td>\n",
       "      <td>background_triggerless</td>\n",
       "      <td>180218_1610</td>\n",
       "      <td>16955</td>\n",
       "      <td>background_triggerless</td>\n",
       "      <td>2018-02-18 16:10:30+00:00</td>\n",
       "      <td>_sciencerun2_candidate,_sciencerun2_preliminary</td>\n",
       "      <td>36292.0</td>\n",
       "      <td>True</td>\n",
       "      <td>True</td>\n",
       "      <td>True</td>\n",
       "      <td>True</td>\n",
       "      <td>True</td>\n",
       "    </tr>\n",
       "    <tr>\n",
       "      <th>19</th>\n",
       "      <td>2018-02-18 18:40:56+00:00</td>\n",
       "      <td>background_triggerless</td>\n",
       "      <td>180218_1740</td>\n",
       "      <td>16957</td>\n",
       "      <td>background_triggerless</td>\n",
       "      <td>2018-02-18 17:40:52+00:00</td>\n",
       "      <td>_sciencerun2_candidate,_sciencerun2_preliminary</td>\n",
       "      <td>36292.0</td>\n",
       "      <td>True</td>\n",
       "      <td>True</td>\n",
       "      <td>True</td>\n",
       "      <td>True</td>\n",
       "      <td>True</td>\n",
       "    </tr>\n",
       "    <tr>\n",
       "      <th>20</th>\n",
       "      <td>2018-02-18 21:41:37+00:00</td>\n",
       "      <td>background_triggerless</td>\n",
       "      <td>180218_2041</td>\n",
       "      <td>16961</td>\n",
       "      <td>background_triggerless</td>\n",
       "      <td>2018-02-18 20:41:34+00:00</td>\n",
       "      <td>_sciencerun2_candidate,_sciencerun2_preliminary</td>\n",
       "      <td>36292.0</td>\n",
       "      <td>True</td>\n",
       "      <td>True</td>\n",
       "      <td>True</td>\n",
       "      <td>True</td>\n",
       "      <td>True</td>\n",
       "    </tr>\n",
       "    <tr>\n",
       "      <th>21</th>\n",
       "      <td>2018-02-19 00:42:26+00:00</td>\n",
       "      <td>background_triggerless</td>\n",
       "      <td>180218_2342</td>\n",
       "      <td>16965</td>\n",
       "      <td>background_triggerless</td>\n",
       "      <td>2018-02-18 23:42:22+00:00</td>\n",
       "      <td>_sciencerun2_candidate,_sciencerun2_preliminary</td>\n",
       "      <td>36292.0</td>\n",
       "      <td>True</td>\n",
       "      <td>True</td>\n",
       "      <td>True</td>\n",
       "      <td>True</td>\n",
       "      <td>True</td>\n",
       "    </tr>\n",
       "    <tr>\n",
       "      <th>22</th>\n",
       "      <td>2018-02-19 06:43:57+00:00</td>\n",
       "      <td>background_triggerless</td>\n",
       "      <td>180219_0543</td>\n",
       "      <td>16973</td>\n",
       "      <td>background_triggerless</td>\n",
       "      <td>2018-02-19 05:43:54+00:00</td>\n",
       "      <td>_sciencerun2_candidate,_sciencerun2_preliminary</td>\n",
       "      <td>36292.0</td>\n",
       "      <td>True</td>\n",
       "      <td>True</td>\n",
       "      <td>True</td>\n",
       "      <td>True</td>\n",
       "      <td>True</td>\n",
       "    </tr>\n",
       "    <tr>\n",
       "      <th>23</th>\n",
       "      <td>2018-02-19 09:44:46+00:00</td>\n",
       "      <td>background_triggerless</td>\n",
       "      <td>180219_0844</td>\n",
       "      <td>16977</td>\n",
       "      <td>background_triggerless</td>\n",
       "      <td>2018-02-19 08:44:42+00:00</td>\n",
       "      <td>_sciencerun2_candidate,_sciencerun2_preliminary</td>\n",
       "      <td>36292.0</td>\n",
       "      <td>True</td>\n",
       "      <td>True</td>\n",
       "      <td>True</td>\n",
       "      <td>True</td>\n",
       "      <td>True</td>\n",
       "    </tr>\n",
       "    <tr>\n",
       "      <th>34</th>\n",
       "      <td>2018-02-19 16:04:31+00:00</td>\n",
       "      <td>background_triggerless</td>\n",
       "      <td>180219_1504</td>\n",
       "      <td>16994</td>\n",
       "      <td>background_triggerless</td>\n",
       "      <td>2018-02-19 15:04:28+00:00</td>\n",
       "      <td>_sciencerun2_candidate,_sciencerun2_preliminary</td>\n",
       "      <td>36292.0</td>\n",
       "      <td>True</td>\n",
       "      <td>True</td>\n",
       "      <td>True</td>\n",
       "      <td>True</td>\n",
       "      <td>True</td>\n",
       "    </tr>\n",
       "    <tr>\n",
       "      <th>35</th>\n",
       "      <td>2018-02-19 17:34:51+00:00</td>\n",
       "      <td>background_triggerless</td>\n",
       "      <td>180219_1634</td>\n",
       "      <td>16996</td>\n",
       "      <td>background_triggerless</td>\n",
       "      <td>2018-02-19 16:34:49+00:00</td>\n",
       "      <td>_sciencerun2_candidate,_sciencerun2_preliminary</td>\n",
       "      <td>36292.0</td>\n",
       "      <td>True</td>\n",
       "      <td>True</td>\n",
       "      <td>True</td>\n",
       "      <td>True</td>\n",
       "      <td>True</td>\n",
       "    </tr>\n",
       "    <tr>\n",
       "      <th>36</th>\n",
       "      <td>2018-02-20 14:40:09+00:00</td>\n",
       "      <td>background_triggerless</td>\n",
       "      <td>180220_1340</td>\n",
       "      <td>17024</td>\n",
       "      <td>background_triggerless</td>\n",
       "      <td>2018-02-20 13:40:06+00:00</td>\n",
       "      <td>_sciencerun2_candidate,_sciencerun2_preliminary</td>\n",
       "      <td>36292.0</td>\n",
       "      <td>True</td>\n",
       "      <td>True</td>\n",
       "      <td>True</td>\n",
       "      <td>True</td>\n",
       "      <td>True</td>\n",
       "    </tr>\n",
       "    <tr>\n",
       "      <th>37</th>\n",
       "      <td>2018-02-20 16:10:30+00:00</td>\n",
       "      <td>background_triggerless</td>\n",
       "      <td>180220_1510</td>\n",
       "      <td>17026</td>\n",
       "      <td>background_triggerless</td>\n",
       "      <td>2018-02-20 15:10:26+00:00</td>\n",
       "      <td>_sciencerun2_candidate,_sciencerun2_preliminary</td>\n",
       "      <td>36292.0</td>\n",
       "      <td>True</td>\n",
       "      <td>True</td>\n",
       "      <td>True</td>\n",
       "      <td>True</td>\n",
       "      <td>True</td>\n",
       "    </tr>\n",
       "    <tr>\n",
       "      <th>38</th>\n",
       "      <td>2018-02-20 17:40:52+00:00</td>\n",
       "      <td>background_triggerless</td>\n",
       "      <td>180220_1640</td>\n",
       "      <td>17028</td>\n",
       "      <td>background_triggerless</td>\n",
       "      <td>2018-02-20 16:40:50+00:00</td>\n",
       "      <td>_sciencerun2_candidate,_sciencerun2_preliminary</td>\n",
       "      <td>36292.0</td>\n",
       "      <td>True</td>\n",
       "      <td>True</td>\n",
       "      <td>True</td>\n",
       "      <td>True</td>\n",
       "      <td>True</td>\n",
       "    </tr>\n",
       "    <tr>\n",
       "      <th>39</th>\n",
       "      <td>2018-02-21 01:13:02+00:00</td>\n",
       "      <td>background_triggerless</td>\n",
       "      <td>180221_0012</td>\n",
       "      <td>17038</td>\n",
       "      <td>background_triggerless</td>\n",
       "      <td>2018-02-21 00:12:58+00:00</td>\n",
       "      <td>_sciencerun2_candidate,_sciencerun2_preliminary</td>\n",
       "      <td>36292.0</td>\n",
       "      <td>True</td>\n",
       "      <td>True</td>\n",
       "      <td>True</td>\n",
       "      <td>True</td>\n",
       "      <td>True</td>\n",
       "    </tr>\n",
       "    <tr>\n",
       "      <th>40</th>\n",
       "      <td>2018-02-21 04:14:03+00:00</td>\n",
       "      <td>background_triggerless</td>\n",
       "      <td>180221_0313</td>\n",
       "      <td>17042</td>\n",
       "      <td>background_triggerless</td>\n",
       "      <td>2018-02-21 03:13:59+00:00</td>\n",
       "      <td>_sciencerun2_candidate,_sciencerun2_preliminary</td>\n",
       "      <td>36292.0</td>\n",
       "      <td>True</td>\n",
       "      <td>True</td>\n",
       "      <td>True</td>\n",
       "      <td>True</td>\n",
       "      <td>True</td>\n",
       "    </tr>\n",
       "    <tr>\n",
       "      <th>41</th>\n",
       "      <td>2018-02-21 05:44:33+00:00</td>\n",
       "      <td>background_triggerless</td>\n",
       "      <td>180221_0444</td>\n",
       "      <td>17044</td>\n",
       "      <td>background_triggerless</td>\n",
       "      <td>2018-02-21 04:44:31+00:00</td>\n",
       "      <td>_sciencerun2_candidate,_sciencerun2_preliminary</td>\n",
       "      <td>36292.0</td>\n",
       "      <td>True</td>\n",
       "      <td>True</td>\n",
       "      <td>True</td>\n",
       "      <td>True</td>\n",
       "      <td>True</td>\n",
       "    </tr>\n",
       "    <tr>\n",
       "      <th>42</th>\n",
       "      <td>2018-02-21 07:45:07+00:00</td>\n",
       "      <td>background_triggerless</td>\n",
       "      <td>180221_0644</td>\n",
       "      <td>17047</td>\n",
       "      <td>background_triggerless</td>\n",
       "      <td>2018-02-21 06:45:03+00:00</td>\n",
       "      <td>_sciencerun2_candidate,_sciencerun2_preliminary</td>\n",
       "      <td>36292.0</td>\n",
       "      <td>True</td>\n",
       "      <td>True</td>\n",
       "      <td>True</td>\n",
       "      <td>True</td>\n",
       "      <td>True</td>\n",
       "    </tr>\n",
       "  </tbody>\n",
       "</table>\n",
       "</div>"
      ],
      "text/plain": [
       "                         end                    mode         name  number  \\\n",
       "1  2017-06-21 07:17:25+00:00       background_stable  170621_0617   10635   \n",
       "2  2018-02-15 10:30:55+00:00  background_triggerless  180215_1029   16854   \n",
       "3  2018-02-16 14:24:47+00:00  background_triggerless  180216_1324   16887   \n",
       "4  2018-02-16 15:55:09+00:00  background_triggerless  180216_1455   16889   \n",
       "5  2018-02-16 17:25:29+00:00  background_triggerless  180216_1625   16891   \n",
       "6  2018-02-17 00:57:19+00:00  background_triggerless  180216_2357   16901   \n",
       "7  2018-02-17 02:27:41+00:00  background_triggerless  180217_0127   16903   \n",
       "8  2018-02-17 03:58:03+00:00  background_triggerless  180217_0257   16905   \n",
       "9  2018-02-17 05:28:23+00:00  background_triggerless  180217_0428   16907   \n",
       "10 2018-02-17 06:28:35+00:00  background_triggerless  180217_0528   16908   \n",
       "11 2018-02-17 12:30:14+00:00  background_triggerless  180217_1130   16916   \n",
       "12 2018-02-17 16:03:31+00:00  background_triggerless  180217_1503   16921   \n",
       "13 2018-02-17 21:05:04+00:00  background_triggerless  180217_2004   16928   \n",
       "14 2018-02-18 03:36:51+00:00  background_triggerless  180218_0236   16937   \n",
       "15 2018-02-18 09:38:32+00:00  background_triggerless  180218_0838   16945   \n",
       "16 2018-02-18 12:39:17+00:00  background_triggerless  180218_1139   16949   \n",
       "17 2018-02-18 15:40:12+00:00  background_triggerless  180218_1439   16953   \n",
       "18 2018-02-18 17:10:34+00:00  background_triggerless  180218_1610   16955   \n",
       "19 2018-02-18 18:40:56+00:00  background_triggerless  180218_1740   16957   \n",
       "20 2018-02-18 21:41:37+00:00  background_triggerless  180218_2041   16961   \n",
       "21 2018-02-19 00:42:26+00:00  background_triggerless  180218_2342   16965   \n",
       "22 2018-02-19 06:43:57+00:00  background_triggerless  180219_0543   16973   \n",
       "23 2018-02-19 09:44:46+00:00  background_triggerless  180219_0844   16977   \n",
       "34 2018-02-19 16:04:31+00:00  background_triggerless  180219_1504   16994   \n",
       "35 2018-02-19 17:34:51+00:00  background_triggerless  180219_1634   16996   \n",
       "36 2018-02-20 14:40:09+00:00  background_triggerless  180220_1340   17024   \n",
       "37 2018-02-20 16:10:30+00:00  background_triggerless  180220_1510   17026   \n",
       "38 2018-02-20 17:40:52+00:00  background_triggerless  180220_1640   17028   \n",
       "39 2018-02-21 01:13:02+00:00  background_triggerless  180221_0012   17038   \n",
       "40 2018-02-21 04:14:03+00:00  background_triggerless  180221_0313   17042   \n",
       "41 2018-02-21 05:44:33+00:00  background_triggerless  180221_0444   17044   \n",
       "42 2018-02-21 07:45:07+00:00  background_triggerless  180221_0644   17047   \n",
       "\n",
       "           reader.ini.name                     start  \\\n",
       "1        background_stable 2017-06-21 06:17:24+00:00   \n",
       "2   background_triggerless 2018-02-15 10:29:52+00:00   \n",
       "3   background_triggerless 2018-02-16 13:24:43+00:00   \n",
       "4   background_triggerless 2018-02-16 14:55:06+00:00   \n",
       "5   background_triggerless 2018-02-16 16:25:26+00:00   \n",
       "6   background_triggerless 2018-02-16 23:57:16+00:00   \n",
       "7   background_triggerless 2018-02-17 01:27:38+00:00   \n",
       "8   background_triggerless 2018-02-17 02:58:00+00:00   \n",
       "9   background_triggerless 2018-02-17 04:28:20+00:00   \n",
       "10  background_triggerless 2018-02-17 05:28:32+00:00   \n",
       "11  background_triggerless 2018-02-17 11:30:11+00:00   \n",
       "12  background_triggerless 2018-02-17 15:03:28+00:00   \n",
       "13  background_triggerless 2018-02-17 20:05:01+00:00   \n",
       "14  background_triggerless 2018-02-18 02:36:48+00:00   \n",
       "15  background_triggerless 2018-02-18 08:38:29+00:00   \n",
       "16  background_triggerless 2018-02-18 11:39:14+00:00   \n",
       "17  background_triggerless 2018-02-18 14:40:09+00:00   \n",
       "18  background_triggerless 2018-02-18 16:10:30+00:00   \n",
       "19  background_triggerless 2018-02-18 17:40:52+00:00   \n",
       "20  background_triggerless 2018-02-18 20:41:34+00:00   \n",
       "21  background_triggerless 2018-02-18 23:42:22+00:00   \n",
       "22  background_triggerless 2018-02-19 05:43:54+00:00   \n",
       "23  background_triggerless 2018-02-19 08:44:42+00:00   \n",
       "34  background_triggerless 2018-02-19 15:04:28+00:00   \n",
       "35  background_triggerless 2018-02-19 16:34:49+00:00   \n",
       "36  background_triggerless 2018-02-20 13:40:06+00:00   \n",
       "37  background_triggerless 2018-02-20 15:10:26+00:00   \n",
       "38  background_triggerless 2018-02-20 16:40:50+00:00   \n",
       "39  background_triggerless 2018-02-21 00:12:58+00:00   \n",
       "40  background_triggerless 2018-02-21 03:13:59+00:00   \n",
       "41  background_triggerless 2018-02-21 04:44:31+00:00   \n",
       "42  background_triggerless 2018-02-21 06:45:03+00:00   \n",
       "\n",
       "                                               tags  trigger.events_built  \\\n",
       "1       blinded,_sciencerun1_candidate,_sciencerun1               19084.0   \n",
       "2   _sciencerun2_candidate,_sciencerun2_preliminary                 858.0   \n",
       "3   _sciencerun2_candidate,_sciencerun2_preliminary               36292.0   \n",
       "4   _sciencerun2_candidate,_sciencerun2_preliminary               36292.0   \n",
       "5   _sciencerun2_candidate,_sciencerun2_preliminary               36292.0   \n",
       "6   _sciencerun2_candidate,_sciencerun2_preliminary               36292.0   \n",
       "7   _sciencerun2_candidate,_sciencerun2_preliminary               36292.0   \n",
       "8   _sciencerun2_candidate,_sciencerun2_preliminary               36292.0   \n",
       "9   _sciencerun2_candidate,_sciencerun2_preliminary               36292.0   \n",
       "10  _sciencerun2_candidate,_sciencerun2_preliminary               36292.0   \n",
       "11  _sciencerun2_candidate,_sciencerun2_preliminary               36292.0   \n",
       "12  _sciencerun2_candidate,_sciencerun2_preliminary               36292.0   \n",
       "13  _sciencerun2_candidate,_sciencerun2_preliminary               36292.0   \n",
       "14  _sciencerun2_candidate,_sciencerun2_preliminary               36292.0   \n",
       "15  _sciencerun2_candidate,_sciencerun2_preliminary               36292.0   \n",
       "16  _sciencerun2_candidate,_sciencerun2_preliminary               36292.0   \n",
       "17  _sciencerun2_candidate,_sciencerun2_preliminary               36292.0   \n",
       "18  _sciencerun2_candidate,_sciencerun2_preliminary               36292.0   \n",
       "19  _sciencerun2_candidate,_sciencerun2_preliminary               36292.0   \n",
       "20  _sciencerun2_candidate,_sciencerun2_preliminary               36292.0   \n",
       "21  _sciencerun2_candidate,_sciencerun2_preliminary               36292.0   \n",
       "22  _sciencerun2_candidate,_sciencerun2_preliminary               36292.0   \n",
       "23  _sciencerun2_candidate,_sciencerun2_preliminary               36292.0   \n",
       "34  _sciencerun2_candidate,_sciencerun2_preliminary               36292.0   \n",
       "35  _sciencerun2_candidate,_sciencerun2_preliminary               36292.0   \n",
       "36  _sciencerun2_candidate,_sciencerun2_preliminary               36292.0   \n",
       "37  _sciencerun2_candidate,_sciencerun2_preliminary               36292.0   \n",
       "38  _sciencerun2_candidate,_sciencerun2_preliminary               36292.0   \n",
       "39  _sciencerun2_candidate,_sciencerun2_preliminary               36292.0   \n",
       "40  _sciencerun2_candidate,_sciencerun2_preliminary               36292.0   \n",
       "41  _sciencerun2_candidate,_sciencerun2_preliminary               36292.0   \n",
       "42  _sciencerun2_candidate,_sciencerun2_preliminary               36292.0   \n",
       "\n",
       "    event_info_available  raw_records_available  peaks_available  \\\n",
       "1                   True                   True             True   \n",
       "2                   True                   True             True   \n",
       "3                   True                   True             True   \n",
       "4                   True                   True             True   \n",
       "5                   True                   True             True   \n",
       "6                   True                   True             True   \n",
       "7                   True                   True             True   \n",
       "8                   True                   True             True   \n",
       "9                   True                   True             True   \n",
       "10                  True                   True             True   \n",
       "11                  True                   True             True   \n",
       "12                  True                   True             True   \n",
       "13                  True                   True             True   \n",
       "14                  True                   True             True   \n",
       "15                  True                   True             True   \n",
       "16                  True                   True             True   \n",
       "17                  True                   True             True   \n",
       "18                  True                   True             True   \n",
       "19                  True                   True             True   \n",
       "20                  True                   True             True   \n",
       "21                  True                   True             True   \n",
       "22                  True                   True             True   \n",
       "23                  True                   True             True   \n",
       "34                  True                   True             True   \n",
       "35                  True                   True             True   \n",
       "36                  True                   True             True   \n",
       "37                  True                   True             True   \n",
       "38                  True                   True             True   \n",
       "39                  True                   True             True   \n",
       "40                  True                   True             True   \n",
       "41                  True                   True             True   \n",
       "42                  True                   True             True   \n",
       "\n",
       "    events_available  records_available  \n",
       "1               True               True  \n",
       "2               True               True  \n",
       "3               True               True  \n",
       "4               True               True  \n",
       "5               True               True  \n",
       "6               True               True  \n",
       "7               True               True  \n",
       "8               True               True  \n",
       "9               True               True  \n",
       "10              True               True  \n",
       "11              True               True  \n",
       "12              True               True  \n",
       "13              True               True  \n",
       "14              True               True  \n",
       "15              True               True  \n",
       "16              True               True  \n",
       "17              True               True  \n",
       "18              True               True  \n",
       "19              True               True  \n",
       "20              True               True  \n",
       "21              True               True  \n",
       "22              True               True  \n",
       "23              True               True  \n",
       "34              True               True  \n",
       "35              True               True  \n",
       "36              True               True  \n",
       "37              True               True  \n",
       "38              True               True  \n",
       "39              True               True  \n",
       "40              True               True  \n",
       "41              True               True  \n",
       "42              True               True  "
      ]
     },
     "execution_count": 7,
     "metadata": {},
     "output_type": "execute_result"
    }
   ],
   "source": [
    "dset"
   ]
  },
  {
   "cell_type": "code",
   "execution_count": 11,
   "metadata": {},
   "outputs": [],
   "source": [
    "bgruns = dset['name'].values.tolist()[1:15]"
   ]
  },
  {
   "cell_type": "markdown",
   "metadata": {},
   "source": [
    "So lets' take that 180215_1029.\n",
    "\n",
    "To actually load data, you use `get_df` to get a pandas DataFrame, or `get_array` to get a numpy (structured) array. Let's go with pandas for now:"
   ]
  },
  {
   "cell_type": "code",
   "execution_count": 12,
   "metadata": {
    "scrolled": false
   },
   "outputs": [
    {
     "name": "stderr",
     "output_type": "stream",
     "text": [
      "Loading 14 runs: 14it [00:00, 16.26it/s]\n"
     ]
    }
   ],
   "source": [
    "#run_id = '180215_1029'\n",
    "df = st.get_df(bgruns, 'event_info')\n",
    "#df = st.get_df(bgruns, 'event_info',selection='(cs1>20000) & (cs2>40000)')"
   ]
  },
  {
   "cell_type": "markdown",
   "metadata": {},
   "source": [
    "The first time you run this, it will take a moment: it has to actually process the data somewhat. We didn't ship highest-level demo data with straxen: that would mean we'd have to constantly update the test data when the algorithms change.\n",
    "\n",
    "Just like hax.minitrees.load, we got a dataframe back. You can specify a list of runid's instead of one run, and get the concatenated result back.\n",
    "\n",
    "Though it's not related to strax, let's make a quick plot of the events we just loaded:"
   ]
  },
  {
   "cell_type": "code",
   "execution_count": 13,
   "metadata": {},
   "outputs": [
    {
     "data": {
      "image/png": "[encoded data removed]",
      "text/plain": [
       "<Figure size 1008x720 with 2 Axes>"
      ]
     },
     "metadata": {
      "needs_background": "light"
     },
     "output_type": "display_data"
    }
   ],
   "source": [
    "import matplotlib.pyplot as plt\n",
    "%matplotlib inline\n",
    "\n",
    "def event_plot(df):\n",
    "    plt.figure(figsize=[14,10])\n",
    "    plt.scatter(df.cs1, df.cs2,\n",
    "                c=df.s1_area_fraction_top,\n",
    "                vmin=0, vmax=0.4, \n",
    "                s=10,\n",
    "                cmap=plt.cm.jet,\n",
    "                marker='.', edgecolors='none')\n",
    "    plt.colorbar(label=\"S1 area fraction top\", extend='max')\n",
    "    plt.xlabel('cS1 (PE)')\n",
    "    plt.ylabel('cS2 (PE)')\n",
    "    #plt.xscale('symlog')\n",
    "    #plt.yscale('log')\n",
    "    plt.ylim(6e4, 2e5)\n",
    "    plt.xlim(20000,80000)\n",
    "    \n",
    "event_plot(df)"
   ]
  },
  {
   "cell_type": "markdown",
   "metadata": {},
   "source": [
    "Can you guess what kind of data this is?"
   ]
  },
  {
   "cell_type": "markdown",
   "metadata": {},
   "source": [
    "## Waveform analysis"
   ]
  },
  {
   "cell_type": "markdown",
   "metadata": {},
   "source": [
    "The *peaks* data type contains the sum waveform information:"
   ]
  },
  {
   "cell_type": "code",
   "execution_count": null,
   "metadata": {},
   "outputs": [],
   "source": [
    "st.data_info('event_positions')"
   ]
  },
  {
   "cell_type": "markdown",
   "metadata": {},
   "source": [
    "Notice the compound data types of the `data`, `width` and `saturated_channel` fields. Pandas does not support such types (well, it sort of does, but the resulting dataframes are quite inefficient), so we have to load this as a numpy array:"
   ]
  },
  {
   "cell_type": "code",
   "execution_count": null,
   "metadata": {},
   "outputs": [],
   "source": [
    "peaks = st.get_array(bgruns, 'peak_basics')\n",
    "peaks.dtype.names"
   ]
  },
  {
   "cell_type": "markdown",
   "metadata": {},
   "source": [
    "Now we can plot peak waveforms:"
   ]
  },
  {
   "cell_type": "code",
   "execution_count": null,
   "metadata": {},
   "outputs": [],
   "source": [
    "def plot_peak(p, t0=None, **kwargs):\n",
    "    n = p['length']\n",
    "    if t0 is None:\n",
    "        t0 = p['time']\n",
    "    plt.plot((p['time'] - t0) + np.arange(n) * p['dt'], \n",
    "             p['data'][:n] / p['dt'], \n",
    "             linestyle='steps-mid',\n",
    "             **kwargs)\n",
    "    plt.xlabel(\"Time (ns)\")\n",
    "    plt.ylabel(\"Sum waveform (PE / ns)\")\n",
    "\n",
    "plot_peak(peaks[55241])"
   ]
  },
  {
   "cell_type": "code",
   "execution_count": null,
   "metadata": {},
   "outputs": [],
   "source": [
    "def plot_peaks(main_i, n_before=0, n_after=0, label_threshold=0):\n",
    "    for i in main_i + np.arange(-n_before, n_after + 1):\n",
    "        p = peaks[i]\n",
    "        label = None\n",
    "        if p['area'] > label_threshold:\n",
    "            label = '%.1f PE, %d ns dt' % (p['area'], p['dt'], )\n",
    "        plot_peak(p,\n",
    "                  t0=peaks[main_i]['time'],\n",
    "                  label=label)\n",
    "    plt.ylim(0, None)\n",
    "    plt.legend(loc='best')\n",
    "    plt.yscale('symlog')\n",
    "\n",
    "plot_peaks(55240, n_after=0, n_before=4)"
   ]
  },
  {
   "cell_type": "markdown",
   "metadata": {},
   "source": [
    "The abrupt termination of the S2 above is due to strax's data reduction."
   ]
  },
  {
   "cell_type": "markdown",
   "metadata": {},
   "source": [
    "## Configuration changes"
   ]
  },
  {
   "cell_type": "markdown",
   "metadata": {},
   "source": [
    "As you can see in the above plot, we have many events high up in the TPC at low S1. Perhaps you want to get rid of them by increasing the 'S1 coincidence requirement', i.e. the number of PMTs that must see something before a peak is labeled as S1. Then, of course, you want to load the event-level data again to see if it worked."
   ]
  },
  {
   "cell_type": "markdown",
   "metadata": {},
   "source": [
    "First, we need to see which configuration option we have to change. Strax plugins declare what configuration they take and what other plugins they depend on, so this is not very difficult. We just ask which options with `s1` in their name influence `event_basics`:"
   ]
  },
  {
   "cell_type": "code",
   "execution_count": null,
   "metadata": {},
   "outputs": [],
   "source": [
    "st.show_config('event_basics')"
   ]
  },
  {
   "cell_type": "markdown",
   "metadata": {},
   "source": [
    "Looks like we're after the `s1_min_n_channels option`. Note this is not part of the `event_basics` data type, but of a data type called `peak_classification`. As you can see from the table, this option is not set in the current context, so the default value (3) is used.\n",
    "\n",
    "To try out a different option, just pass it to get_df:"
   ]
  },
  {
   "cell_type": "code",
   "execution_count": null,
   "metadata": {},
   "outputs": [],
   "source": [
    "df_2 = st.get_df(bgruns, 'event_info',\n",
    "                 config=dict(s1_min_n_channels=50))\n",
    "event_plot(df_2)"
   ]
  },
  {
   "cell_type": "markdown",
   "metadata": {},
   "source": [
    "Notice all the small S1 events are indeed gone now.\n",
    "\n",
    "Behind the scenes, this figured out which dataframes had to be remade: as it happens this time just `event_basics` and `peak_basics`. You will now have a new `event_basics_<somehash>` folder in `./custom_data` which contains the results, as well as a new `peak_basics_<somehash> folder`."
   ]
  },
  {
   "cell_type": "markdown",
   "metadata": {},
   "source": [
    "### More on configuration changes"
   ]
  },
  {
   "cell_type": "markdown",
   "metadata": {},
   "source": [
    "Changing configuration can be done in two other ways. We can change it permanently in the current context:\n",
    "```python\n",
    "st.set_config(dict(s1_min_channels=50))\n",
    "```\n",
    "Or we could make a new context, with this option set:\n",
    "```python\n",
    "st_2 = st.new_context(config=dict(s1_min_channels=50))\n",
    "```\n",
    "(feeding it to get_df just does the latter behind the scenes)."
   ]
  },
  {
   "cell_type": "markdown",
   "metadata": {},
   "source": [
    "Strax protects you from typos in the configuration. Suppose we typed `s1_min_n_channelz` instead:"
   ]
  },
  {
   "cell_type": "code",
   "execution_count": null,
   "metadata": {},
   "outputs": [],
   "source": [
    "df_2 = st.get_df(run_id, 'event_info',\n",
    "                 config=dict(s1_min_n_channelz=50))\n",
    "event_plot(df_2)"
   ]
  },
  {
   "cell_type": "markdown",
   "metadata": {},
   "source": [
    "The result of get_df is just the same as if the option wasn't set (just like in pax/hax), but you also get a warning about an unknown configuration option. \n",
    "\n",
    "By the way, you can use \n",
    "```python\n",
    "import warnings\n",
    "warnings.filterwarnings(\"error\")\n",
    "```\n",
    "to ensure any warning raises an exception instead."
   ]
  },
  {
   "cell_type": "markdown",
   "metadata": {},
   "source": [
    "## Customization: new plugins"
   ]
  },
  {
   "cell_type": "markdown",
   "metadata": {},
   "source": [
    "To add or change processing algorithms, or to define new variables to use in cuts, you have to write new strax plugins. These are somewhat similar to hax's treemakers.\n",
    "\n",
    "Suppose you have a brilliant new idea for peak classification:"
   ]
  },
  {
   "cell_type": "code",
   "execution_count": null,
   "metadata": {},
   "outputs": [],
   "source": [
    "import strax\n",
    "import numpy as np\n",
    "\n",
    "class AdvancedExpertClassification(strax.Plugin):\n",
    "    \"\"\"Everything is an S1!\"\"\"\n",
    "    \n",
    "    # Name of the data type this plugin provides\n",
    "    provides = 'peak_classification'\n",
    "    \n",
    "    # Data types this plugin requires. Note we don't specify\n",
    "    # what plugins should produce them: maybe the default PeakBasics\n",
    "    # has been replaced by another AdvancedExpertBlabla plugin?\n",
    "    depends_on = ('peak_basics',)\n",
    "    \n",
    "    # Numpy datatype of the output \n",
    "    dtype = straxen.plugins.plugins.PeakClassification.dtype\n",
    "    \n",
    "    # Version of the plugin. Increment this if you change the algorithm.\n",
    "    __version__ = '0.0.1'\n",
    "\n",
    "    def compute(self, peaks):\n",
    "        # Your code here.\n",
    "        # This function will be called several times with \n",
    "        # 'peaks' a numpy array of the datatype 'peaks'.\n",
    "        # Each time you'll see a small part of the run.\n",
    "        \n",
    "        # You have to return a numpy array of the dtype you declared above\n",
    "        # or, which is often easier, a dictionary we can transform into it\n",
    "        # (dict keys -> field names, values -> field values)\n",
    "        return dict(type=np.ones(len(peaks)))"
   ]
  },
  {
   "cell_type": "markdown",
   "metadata": {},
   "source": [
    "Notice the plugin provides 'peak_classification' and produces the same data type as PeakClassification plugin, which in this case is just:"
   ]
  },
  {
   "cell_type": "code",
   "execution_count": 14,
   "metadata": {},
   "outputs": [],
   "source": [
    "import strax\n",
    "import numpy as np\n",
    "export, __all__ = strax.exporter()\n",
    "\n",
    "@export\n",
    "@strax.takes_config(\n",
    "    strax.Option('s2_min_area', default=10,\n",
    "                 help=\"Minimum area (PE) for S2s\"),\n",
    "    strax.Option('s2_min_width', default=200,\n",
    "                 help=\"Minimum width for S2s\"),\n",
    "    strax.Option('se_min_area', default=10,\n",
    "                 help=\"Minimum area for single electrons\"),\n",
    "    strax.Option('se_max_area', default=40,\n",
    "                 help=\"Maximum area for single electrons\"))\n",
    "\n",
    "class MyBudgetClassification(strax.Plugin):\n",
    "    \"\"\"Every S1 is a lone hit and every S2 is a single electron\"\"\"\n",
    "    \n",
    "    # Name of the data type this plugin provides\n",
    "    provides = 'peak_classification'\n",
    "    \n",
    "    # Data types this plugin requires. Note we don't specify\n",
    "    # what plugins should produce them: maybe the default PeakBasics\n",
    "    # has been replaced by another AdvancedExpertBlabla plugin?\n",
    "    depends_on = ('peak_basics',)\n",
    "    \n",
    "    # Numpy datatype of the output \n",
    "    dtype = straxen.plugins.plugins.PeakClassification.dtype\n",
    "    \n",
    "    # Version of the plugin. Increment this if you change the algorithm.\n",
    "    __version__ = '0.0.2'\n",
    "\n",
    "    def compute(self, peaks):\n",
    "        # Your code here.\n",
    "        # This function will be called several times with \n",
    "        # 'peaks' a numpy array of the datatype 'peaks'.\n",
    "        # Each time you'll see a small part of the run.\n",
    "        \n",
    "        # You have to return a numpy array of the dtype you declared above\n",
    "        # or, which is often easier, a dictionary we can transform into it\n",
    "        # (dict keys -> field names, values -> field values)\n",
    "        p = peaks\n",
    "        r = np.zeros(len(p), dtype=self.dtype)\n",
    "\n",
    "        #is_s1 = p['n_channels'] >= self.config['s1_min_n_channels']\n",
    "        #is_s1 &= p['range_50p_area'] < self.config['s1_max_width']\n",
    "        #r['type'][is_s1] = 0\n",
    "\n",
    "        is_s2 = p['area'] > self.config['s2_min_area']\n",
    "        is_s2 &= p['range_50p_area'] > self.config['s2_min_width']\n",
    "        #r['type'][is_s2] = 0\n",
    "        \n",
    "        is_se = is_s2\n",
    "        is_s2 &= p['area'] > self.config['se_min_area']\n",
    "        is_s2 &= p['area'] < self.config['se_max_area']\n",
    "        r['type'][is_se] = 2\n",
    "        \n",
    "        is_lonehit = p['n_channels'] == 1\n",
    "        r['type'][is_lonehit] = 1\n",
    "        \n",
    "        return r"
   ]
  },
  {
   "cell_type": "code",
   "execution_count": 15,
   "metadata": {},
   "outputs": [
    {
     "data": {
      "text/plain": [
       "[('type', numpy.int8, 'Classification of the peak.')]"
      ]
     },
     "execution_count": 15,
     "metadata": {},
     "output_type": "execute_result"
    }
   ],
   "source": [
    "MyBudgetClassification.dtype"
   ]
  },
  {
   "cell_type": "markdown",
   "metadata": {},
   "source": [
    "To use it in place of PeakClassification, we only have to register it. Again, we can do so permanently using \n",
    "```python\n",
    "st.register(AdvancedExpertClassification)\n",
    "```\n",
    "or temporarily, by feeding the registration as an extra argument to `get_df`:"
   ]
  },
  {
   "cell_type": "code",
   "execution_count": 26,
   "metadata": {},
   "outputs": [],
   "source": [
    "run_id = '180215_1029'\n",
    "df = st.get_df(run_id, 'event_info',\n",
    "               register=MyBudgetClassification)"
   ]
  },
  {
   "cell_type": "code",
   "execution_count": 25,
   "metadata": {},
   "outputs": [
    {
     "data": {
      "text/plain": [
       "Index(['n_peaks', 'drift_time', 's1_index', 's1_area', 's1_area_fraction_top',\n",
       "       's1_range_50p_area', 's1_n_competing', 's2_index', 's2_area',\n",
       "       's2_area_fraction_top', 's2_range_50p_area', 's2_n_competing', 'x_s2',\n",
       "       'y_s2', 's2_largest_other', 's1_largest_other',\n",
       "       'alt_s1_interaction_drift_time'],\n",
       "      dtype='object')"
      ]
     },
     "execution_count": 25,
     "metadata": {},
     "output_type": "execute_result"
    }
   ],
   "source": [
    "df.columns"
   ]
  },
  {
   "cell_type": "code",
   "execution_count": 29,
   "metadata": {},
   "outputs": [
    {
     "data": {
      "image/png": "[encoded data removed]",
      "text/plain": [
       "<Figure size 432x288 with 1 Axes>"
      ]
     },
     "metadata": {
      "needs_background": "light"
     },
     "output_type": "display_data"
    }
   ],
   "source": [
    "plt.scatter(df['cs1'],df['cs2'],marker='.')\n",
    "plt.xscale('symlog')\n",
    "plt.yscale('symlog')"
   ]
  },
  {
   "cell_type": "markdown",
   "metadata": {},
   "source": [
    "As you can see, all events are now S1-only events, as expected. Maybe this is not the best alternative classification :-)\n",
    "\n",
    "This plugin was the most basic possible plugin. You'll also want to learn about `LoopPlugin`s and `OverlapWindowPlugin`s, but that's beyond the scope of this tutorial."
   ]
  },
  {
   "cell_type": "code",
   "execution_count": null,
   "metadata": {},
   "outputs": [],
   "source": []
  }
 ],
 "metadata": {
  "kernelspec": {
   "display_name": "Python [conda env:strax] *",
   "language": "python",
   "name": "conda-env-strax-py"
  },
  "language_info": {
   "codemirror_mode": {
    "name": "ipython",
    "version": 3
   },
   "file_extension": ".py",
   "mimetype": "text/x-python",
   "name": "python",
   "nbconvert_exporter": "python",
   "pygments_lexer": "ipython3",
   "version": "3.6.8"
  }
 },
 "nbformat": 4,
 "nbformat_minor": 2
}
