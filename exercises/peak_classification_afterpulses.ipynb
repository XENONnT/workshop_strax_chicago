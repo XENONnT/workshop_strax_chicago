{
 "cells": [
  {
   "cell_type": "code",
   "execution_count": 60,
   "metadata": {},
   "outputs": [],
   "source": [
    "import matplotlib.pyplot as plt\n",
    "import numpy as np\n",
    "# This just ensures some comments in dataframes below display nicely\n",
    "import pandas as pd\n",
    "from multihist import Hist1d, Histdd\n",
    "pd.options.display.max_colwidth = 100"
   ]
  },
  {
   "cell_type": "code",
   "execution_count": 209,
   "metadata": {},
   "outputs": [],
   "source": [
    "import strax\n",
    "export, __all__ = strax.exporter()\n"
   ]
  },
  {
   "cell_type": "code",
   "execution_count": 2,
   "metadata": {},
   "outputs": [],
   "source": [
    "import straxen\n",
    "st = straxen.contexts.strax_workshop_dali()"
   ]
  },
  {
   "cell_type": "code",
   "execution_count": 3,
   "metadata": {},
   "outputs": [],
   "source": [
    "straxen.download_test_data()"
   ]
  },
  {
   "cell_type": "code",
   "execution_count": 133,
   "metadata": {},
   "outputs": [
    {
     "data": {
      "text/html": [
       "<div>\n",
       "<style scoped>\n",
       "    .dataframe tbody tr th:only-of-type {\n",
       "        vertical-align: middle;\n",
       "    }\n",
       "\n",
       "    .dataframe tbody tr th {\n",
       "        vertical-align: top;\n",
       "    }\n",
       "\n",
       "    .dataframe thead th {\n",
       "        text-align: right;\n",
       "    }\n",
       "</style>\n",
       "<table border=\"1\" class=\"dataframe\">\n",
       "  <thead>\n",
       "    <tr style=\"text-align: right;\">\n",
       "      <th></th>\n",
       "      <th>Field name</th>\n",
       "      <th>Data type</th>\n",
       "      <th>Comment</th>\n",
       "    </tr>\n",
       "  </thead>\n",
       "  <tbody>\n",
       "    <tr>\n",
       "      <th>0</th>\n",
       "      <td>time</td>\n",
       "      <td>int64</td>\n",
       "      <td>Start time of the peak (ns since unix epoch)</td>\n",
       "    </tr>\n",
       "    <tr>\n",
       "      <th>1</th>\n",
       "      <td>endtime</td>\n",
       "      <td>int64</td>\n",
       "      <td>End time of the peak (ns since unix epoch)</td>\n",
       "    </tr>\n",
       "    <tr>\n",
       "      <th>2</th>\n",
       "      <td>area</td>\n",
       "      <td>float32</td>\n",
       "      <td>Peak integral in PE</td>\n",
       "    </tr>\n",
       "    <tr>\n",
       "      <th>3</th>\n",
       "      <td>n_channels</td>\n",
       "      <td>int16</td>\n",
       "      <td>Number of PMTs contributing to the peak</td>\n",
       "    </tr>\n",
       "    <tr>\n",
       "      <th>4</th>\n",
       "      <td>max_pmt</td>\n",
       "      <td>int16</td>\n",
       "      <td>PMT number which contributes the most PE</td>\n",
       "    </tr>\n",
       "    <tr>\n",
       "      <th>5</th>\n",
       "      <td>max_pmt_area</td>\n",
       "      <td>int32</td>\n",
       "      <td>Area of signal in the largest-contributing PMT (PE)</td>\n",
       "    </tr>\n",
       "    <tr>\n",
       "      <th>6</th>\n",
       "      <td>range_50p_area</td>\n",
       "      <td>float32</td>\n",
       "      <td>Width (in ns) of the central 50% area of the peak</td>\n",
       "    </tr>\n",
       "    <tr>\n",
       "      <th>7</th>\n",
       "      <td>area_fraction_top</td>\n",
       "      <td>float32</td>\n",
       "      <td>Fraction of area seen by the top array</td>\n",
       "    </tr>\n",
       "    <tr>\n",
       "      <th>8</th>\n",
       "      <td>length</td>\n",
       "      <td>int32</td>\n",
       "      <td>Length of the peak waveform in samples</td>\n",
       "    </tr>\n",
       "    <tr>\n",
       "      <th>9</th>\n",
       "      <td>dt</td>\n",
       "      <td>int16</td>\n",
       "      <td>Time resolution of the peak waveform in ns</td>\n",
       "    </tr>\n",
       "  </tbody>\n",
       "</table>\n",
       "</div>"
      ],
      "text/plain": [
       "          Field name Data type  \\\n",
       "0               time     int64   \n",
       "1            endtime     int64   \n",
       "2               area   float32   \n",
       "3         n_channels     int16   \n",
       "4            max_pmt     int16   \n",
       "5       max_pmt_area     int32   \n",
       "6     range_50p_area   float32   \n",
       "7  area_fraction_top   float32   \n",
       "8             length     int32   \n",
       "9                 dt     int16   \n",
       "\n",
       "                                               Comment  \n",
       "0         Start time of the peak (ns since unix epoch)  \n",
       "1           End time of the peak (ns since unix epoch)  \n",
       "2                                  Peak integral in PE  \n",
       "3              Number of PMTs contributing to the peak  \n",
       "4             PMT number which contributes the most PE  \n",
       "5  Area of signal in the largest-contributing PMT (PE)  \n",
       "6    Width (in ns) of the central 50% area of the peak  \n",
       "7               Fraction of area seen by the top array  \n",
       "8               Length of the peak waveform in samples  \n",
       "9           Time resolution of the peak waveform in ns  "
      ]
     },
     "execution_count": 133,
     "metadata": {},
     "output_type": "execute_result"
    }
   ],
   "source": [
    "st.data_info('peak_basics')"
   ]
  },
  {
   "cell_type": "code",
   "execution_count": 48,
   "metadata": {},
   "outputs": [
    {
     "data": {
      "text/plain": [
       "array(['180215_1029', '180216_1324', '180216_1455', '180216_1625',\n",
       "       '180216_2357'], dtype=object)"
      ]
     },
     "execution_count": 48,
     "metadata": {},
     "output_type": "execute_result"
    }
   ],
   "source": [
    "runs = st.select_runs(run_mode='background_triggerless')['name'].values[:5]\n",
    "runs"
   ]
  },
  {
   "cell_type": "code",
   "execution_count": 156,
   "metadata": {},
   "outputs": [],
   "source": [
    "runid = '180215_1029'"
   ]
  },
  {
   "cell_type": "code",
   "execution_count": 157,
   "metadata": {},
   "outputs": [],
   "source": [
    "basics = st.get_df(runid, 'peak_basics')\n",
    "arr = st.get_array(runid, 'peaks')"
   ]
  },
  {
   "cell_type": "code",
   "execution_count": 158,
   "metadata": {},
   "outputs": [],
   "source": [
    "# construct an actual dataframe\n",
    "peaks = pd.DataFrame(arr[['area', 'n_hits', 'time', 'length', 'n_saturated_channels', 'dt']])"
   ]
  },
  {
   "cell_type": "code",
   "execution_count": 159,
   "metadata": {},
   "outputs": [],
   "source": [
    "peaks['width10'] = arr['width'][:, 1]\n",
    "peaks['width20'] = arr['width'][:, 2]\n",
    "peaks['width50'] = arr['width'][:, 5]\n",
    "peaks['width90'] = arr['width'][:, 9]"
   ]
  },
  {
   "cell_type": "code",
   "execution_count": 160,
   "metadata": {},
   "outputs": [
    {
     "data": {
      "text/html": [
       "<div>\n",
       "<style scoped>\n",
       "    .dataframe tbody tr th:only-of-type {\n",
       "        vertical-align: middle;\n",
       "    }\n",
       "\n",
       "    .dataframe tbody tr th {\n",
       "        vertical-align: top;\n",
       "    }\n",
       "\n",
       "    .dataframe thead th {\n",
       "        text-align: right;\n",
       "    }\n",
       "</style>\n",
       "<table border=\"1\" class=\"dataframe\">\n",
       "  <thead>\n",
       "    <tr style=\"text-align: right;\">\n",
       "      <th></th>\n",
       "      <th>time</th>\n",
       "      <th>endtime</th>\n",
       "      <th>area</th>\n",
       "      <th>n_channels</th>\n",
       "      <th>max_pmt</th>\n",
       "      <th>max_pmt_area</th>\n",
       "      <th>range_50p_area</th>\n",
       "      <th>area_fraction_top</th>\n",
       "      <th>length</th>\n",
       "      <th>dt</th>\n",
       "      <th>time_previous_peak</th>\n",
       "      <th>peak_time_diff_ns</th>\n",
       "    </tr>\n",
       "  </thead>\n",
       "  <tbody>\n",
       "    <tr>\n",
       "      <th>0</th>\n",
       "      <td>1518690592000528700</td>\n",
       "      <td>1518690592000528930</td>\n",
       "      <td>1.058814</td>\n",
       "      <td>1</td>\n",
       "      <td>5</td>\n",
       "      <td>134</td>\n",
       "      <td>5.183753</td>\n",
       "      <td>1.0</td>\n",
       "      <td>23</td>\n",
       "      <td>10</td>\n",
       "      <td>NaN</td>\n",
       "      <td>NaN</td>\n",
       "    </tr>\n",
       "    <tr>\n",
       "      <th>1</th>\n",
       "      <td>1518690592007144310</td>\n",
       "      <td>1518690592007144550</td>\n",
       "      <td>0.640499</td>\n",
       "      <td>1</td>\n",
       "      <td>126</td>\n",
       "      <td>184</td>\n",
       "      <td>39.519909</td>\n",
       "      <td>1.0</td>\n",
       "      <td>24</td>\n",
       "      <td>10</td>\n",
       "      <td>1.518691e+18</td>\n",
       "      <td>6615296.0</td>\n",
       "    </tr>\n",
       "    <tr>\n",
       "      <th>2</th>\n",
       "      <td>1518690592007608370</td>\n",
       "      <td>1518690592007608600</td>\n",
       "      <td>0.000000</td>\n",
       "      <td>1</td>\n",
       "      <td>87</td>\n",
       "      <td>225</td>\n",
       "      <td>0.000000</td>\n",
       "      <td>0.0</td>\n",
       "      <td>23</td>\n",
       "      <td>10</td>\n",
       "      <td>1.518691e+18</td>\n",
       "      <td>463872.0</td>\n",
       "    </tr>\n",
       "    <tr>\n",
       "      <th>3</th>\n",
       "      <td>1518690592007618830</td>\n",
       "      <td>1518690592007619220</td>\n",
       "      <td>0.000000</td>\n",
       "      <td>1</td>\n",
       "      <td>87</td>\n",
       "      <td>275</td>\n",
       "      <td>0.000000</td>\n",
       "      <td>0.0</td>\n",
       "      <td>39</td>\n",
       "      <td>10</td>\n",
       "      <td>1.518691e+18</td>\n",
       "      <td>10240.0</td>\n",
       "    </tr>\n",
       "    <tr>\n",
       "      <th>4</th>\n",
       "      <td>1518690592007628210</td>\n",
       "      <td>1518690592007628420</td>\n",
       "      <td>0.000000</td>\n",
       "      <td>1</td>\n",
       "      <td>87</td>\n",
       "      <td>311</td>\n",
       "      <td>0.000000</td>\n",
       "      <td>0.0</td>\n",
       "      <td>21</td>\n",
       "      <td>10</td>\n",
       "      <td>1.518691e+18</td>\n",
       "      <td>8960.0</td>\n",
       "    </tr>\n",
       "  </tbody>\n",
       "</table>\n",
       "</div>"
      ],
      "text/plain": [
       "                  time              endtime      area  n_channels  max_pmt  \\\n",
       "0  1518690592000528700  1518690592000528930  1.058814           1        5   \n",
       "1  1518690592007144310  1518690592007144550  0.640499           1      126   \n",
       "2  1518690592007608370  1518690592007608600  0.000000           1       87   \n",
       "3  1518690592007618830  1518690592007619220  0.000000           1       87   \n",
       "4  1518690592007628210  1518690592007628420  0.000000           1       87   \n",
       "\n",
       "   max_pmt_area  range_50p_area  area_fraction_top  length  dt  \\\n",
       "0           134        5.183753                1.0      23  10   \n",
       "1           184       39.519909                1.0      24  10   \n",
       "2           225        0.000000                0.0      23  10   \n",
       "3           275        0.000000                0.0      39  10   \n",
       "4           311        0.000000                0.0      21  10   \n",
       "\n",
       "   time_previous_peak  peak_time_diff_ns  \n",
       "0                 NaN                NaN  \n",
       "1        1.518691e+18          6615296.0  \n",
       "2        1.518691e+18           463872.0  \n",
       "3        1.518691e+18            10240.0  \n",
       "4        1.518691e+18             8960.0  "
      ]
     },
     "execution_count": 160,
     "metadata": {},
     "output_type": "execute_result"
    }
   ],
   "source": [
    "basics['time_previous_peak'] = np.hstack((np.nan, basics['endtime'].values[:-1]))\n",
    "basics['peak_time_diff_ns'] = basics['time'] - basics['time_previous_peak']\n",
    "basics.head()"
   ]
  },
  {
   "cell_type": "code",
   "execution_count": 161,
   "metadata": {},
   "outputs": [],
   "source": [
    "# afterpulses would only occur in a single channel\n",
    "aps = basics[basics.n_channels == 1]\n",
    "\n",
    "# afterpulses occur within ~5 microseconds\n",
    "aps = aps[aps.peak_time_diff_ns/1e3 < 5]\n"
   ]
  },
  {
   "cell_type": "code",
   "execution_count": 162,
   "metadata": {},
   "outputs": [
    {
     "data": {
      "text/plain": [
       "(0, 2553.15)"
      ]
     },
     "execution_count": 162,
     "metadata": {},
     "output_type": "execute_result"
    },
    {
     "data": {
      "image/png": "[encoded data removed]",
      "text/plain": [
       "<Figure size 432x288 with 1 Axes>"
      ]
     },
     "metadata": {
      "needs_background": "light"
     },
     "output_type": "display_data"
    }
   ],
   "source": [
    "h = Hist1d(aps.peak_time_diff_ns/1000, bins=np.linspace(0, 5, 20))\n",
    "\n",
    "h.plot()\n",
    "plt.xlabel(\"Time after previous peak [us]\")\n",
    "plt.ylabel('counts/bin')\n",
    "plt.ylim(0, )"
   ]
  },
  {
   "cell_type": "code",
   "execution_count": 164,
   "metadata": {},
   "outputs": [
    {
     "data": {
      "image/png": "[encoded data removed]",
      "text/plain": [
       "<Figure size 432x288 with 2 Axes>"
      ]
     },
     "metadata": {
      "needs_background": "light"
     },
     "output_type": "display_data"
    }
   ],
   "source": [
    "h = Histdd(aps.peak_time_diff_ns/1000, aps.area,\n",
    "           bins=[np.linspace(0, 5, 20), np.logspace(-3, 2, 100)])\n",
    "h.plot(log_scale=True)\n",
    "plt.ylabel(\"peak area [pe]\")\n",
    "plt.xlabel('time after previous peak [us]')\n",
    "plt.title('afterpulses?')\n",
    "plt.yscale('log')\n",
    "plt.ylim(0.1, 50)\n",
    "plt.show()"
   ]
  },
  {
   "cell_type": "code",
   "execution_count": 171,
   "metadata": {},
   "outputs": [],
   "source": [
    "# this is really slow, and not really needed\n",
    "def channel_in_previous_peak(row):\n",
    "    # get the time of the previous peak\n",
    "    time = basics[basics['endtime'] == row['time_previous_peak']]['time'].values[0]\n",
    "    apc = arr[arr['time'] == time]['area_per_channel'][0]\n",
    "    return row.max_pmt in np.where(apc > 0)[0]"
   ]
  },
  {
   "cell_type": "code",
   "execution_count": 167,
   "metadata": {},
   "outputs": [],
   "source": [
    "aps['channel_in_prev_peak'] = aps.apply(channel_in_previous_peak, axis=1)\n"
   ]
  },
  {
   "cell_type": "code",
   "execution_count": 172,
   "metadata": {},
   "outputs": [],
   "source": [
    "aps2 = aps[aps.area > 0]"
   ]
  },
  {
   "cell_type": "code",
   "execution_count": 175,
   "metadata": {},
   "outputs": [],
   "source": [
    "aps3 = aps2.apply(channel_in_previous_peak, axis=1)"
   ]
  },
  {
   "cell_type": "code",
   "execution_count": 176,
   "metadata": {},
   "outputs": [
    {
     "name": "stdout",
     "output_type": "stream",
     "text": [
      "16812 1046 1046\n"
     ]
    }
   ],
   "source": [
    "print(len(aps), len(aps2), len(aps3))"
   ]
  },
  {
   "cell_type": "code",
   "execution_count": 177,
   "metadata": {},
   "outputs": [
    {
     "data": {
      "image/png": "[encoded data removed]",
      "text/plain": [
       "<Figure size 432x288 with 2 Axes>"
      ]
     },
     "metadata": {
      "needs_background": "light"
     },
     "output_type": "display_data"
    }
   ],
   "source": [
    "h = Histdd(aps2.peak_time_diff_ns/1000, aps2.area,\n",
    "           bins=[np.linspace(0, 5, 20), np.logspace(-3, 2, 100)])\n",
    "h.plot(log_scale=True)\n",
    "plt.ylabel(\"peak area [pe]\")\n",
    "plt.xlabel('time after previous peak [us]')\n",
    "plt.title('afterpulses?')\n",
    "plt.yscale('log')\n",
    "plt.ylim(0.1, 50)\n",
    "plt.show()"
   ]
  },
  {
   "cell_type": "code",
   "execution_count": 224,
   "metadata": {},
   "outputs": [],
   "source": [
    "@export\n",
    "@strax.takes_config(\n",
    "    strax.Option('s1_max_width', default=150,\n",
    "                 help=\"Maximum (IQR) width of S1s\"),\n",
    "    strax.Option('s1_min_n_channels', default=3,\n",
    "                 help=\"Minimum number of PMTs that must contribute to a S1\"),\n",
    "    strax.Option('s2_min_area', default=10,\n",
    "                 help=\"Minimum area (PE) for S2s\"),\n",
    "    strax.Option('s2_min_width', default=200, help=\"Minimum width for S2s\"),\n",
    "    strax.Option('afterpulse_max_timediff', default=5, \n",
    "                 help='Maximum time in us after a previous peak to be considered afterpulse'))\n",
    "class PeakClassification2(strax.Plugin):\n",
    "    __version__ = '0.0.3'\n",
    "    depends_on = ('peak_basics',)\n",
    "    \n",
    "    dtype = [\n",
    "        ('type', np.int8, 'Classification of the peak.')]\n",
    "    parallel = True\n",
    "\n",
    "    def compute(self, peaks):\n",
    "        p = peaks\n",
    "        \n",
    "        # for afterpulse classification\n",
    "        time_previous_peak= np.hstack((np.nan, p['endtime'][:-1]))\n",
    "        peak_time_diff_ns = p['time'] - time_previous_peak\n",
    "        \n",
    "        r = np.zeros(len(p), dtype=self.dtype)\n",
    "\n",
    "        is_s1 = p['n_channels'] >= self.config['s1_min_n_channels']\n",
    "        is_s1 &= p['range_50p_area'] < self.config['s1_max_width']\n",
    "        r['type'][is_s1] = 1\n",
    "\n",
    "        is_s2 = p['area'] > self.config['s2_min_area']\n",
    "        is_s2 &= p['range_50p_area'] > self.config['s2_min_width']\n",
    "        r['type'][is_s2] = 2\n",
    "        \n",
    "        is_ap = p['n_channels'] == 1\n",
    "        is_ap &= peak_time_diff_ns/1e3 < self.config['afterpulse_max_timediff']\n",
    "        r['type'][is_ap] = 3\n",
    "    \n",
    "        return r"
   ]
  },
  {
   "cell_type": "code",
   "execution_count": 225,
   "metadata": {},
   "outputs": [
    {
     "data": {
      "text/plain": [
       "__main__.PeakClassification2"
      ]
     },
     "execution_count": 225,
     "metadata": {},
     "output_type": "execute_result"
    }
   ],
   "source": [
    "st = straxen.contexts.strax_workshop_dali()\n",
    "st.register(PeakClassification2)"
   ]
  },
  {
   "cell_type": "code",
   "execution_count": 226,
   "metadata": {},
   "outputs": [
    {
     "data": {
      "text/html": [
       "<div>\n",
       "<style scoped>\n",
       "    .dataframe tbody tr th:only-of-type {\n",
       "        vertical-align: middle;\n",
       "    }\n",
       "\n",
       "    .dataframe tbody tr th {\n",
       "        vertical-align: top;\n",
       "    }\n",
       "\n",
       "    .dataframe thead th {\n",
       "        text-align: right;\n",
       "    }\n",
       "</style>\n",
       "<table border=\"1\" class=\"dataframe\">\n",
       "  <thead>\n",
       "    <tr style=\"text-align: right;\">\n",
       "      <th></th>\n",
       "      <th>Field name</th>\n",
       "      <th>Data type</th>\n",
       "      <th>Comment</th>\n",
       "    </tr>\n",
       "  </thead>\n",
       "  <tbody>\n",
       "    <tr>\n",
       "      <th>0</th>\n",
       "      <td>type</td>\n",
       "      <td>int8</td>\n",
       "      <td>Classification of the peak.</td>\n",
       "    </tr>\n",
       "  </tbody>\n",
       "</table>\n",
       "</div>"
      ],
      "text/plain": [
       "  Field name Data type                      Comment\n",
       "0       type      int8  Classification of the peak."
      ]
     },
     "execution_count": 226,
     "metadata": {},
     "output_type": "execute_result"
    }
   ],
   "source": [
    "st.data_info('peak_classification2')"
   ]
  },
  {
   "cell_type": "code",
   "execution_count": 228,
   "metadata": {},
   "outputs": [],
   "source": [
    "df = st.get_df(runid , 'peak_classification2')"
   ]
  },
  {
   "cell_type": "code",
   "execution_count": 229,
   "metadata": {},
   "outputs": [
    {
     "data": {
      "text/html": [
       "<div>\n",
       "<style scoped>\n",
       "    .dataframe tbody tr th:only-of-type {\n",
       "        vertical-align: middle;\n",
       "    }\n",
       "\n",
       "    .dataframe tbody tr th {\n",
       "        vertical-align: top;\n",
       "    }\n",
       "\n",
       "    .dataframe thead th {\n",
       "        text-align: right;\n",
       "    }\n",
       "</style>\n",
       "<table border=\"1\" class=\"dataframe\">\n",
       "  <thead>\n",
       "    <tr style=\"text-align: right;\">\n",
       "      <th></th>\n",
       "      <th>type</th>\n",
       "    </tr>\n",
       "  </thead>\n",
       "  <tbody>\n",
       "    <tr>\n",
       "      <th>0</th>\n",
       "      <td>0</td>\n",
       "    </tr>\n",
       "    <tr>\n",
       "      <th>1</th>\n",
       "      <td>0</td>\n",
       "    </tr>\n",
       "    <tr>\n",
       "      <th>2</th>\n",
       "      <td>0</td>\n",
       "    </tr>\n",
       "    <tr>\n",
       "      <th>3</th>\n",
       "      <td>0</td>\n",
       "    </tr>\n",
       "    <tr>\n",
       "      <th>4</th>\n",
       "      <td>0</td>\n",
       "    </tr>\n",
       "  </tbody>\n",
       "</table>\n",
       "</div>"
      ],
      "text/plain": [
       "   type\n",
       "0     0\n",
       "1     0\n",
       "2     0\n",
       "3     0\n",
       "4     0"
      ]
     },
     "execution_count": 229,
     "metadata": {},
     "output_type": "execute_result"
    }
   ],
   "source": [
    "df.head()"
   ]
  },
  {
   "cell_type": "code",
   "execution_count": null,
   "metadata": {},
   "outputs": [],
   "source": []
  }
 ],
 "metadata": {
  "kernelspec": {
   "display_name": "Python 3",
   "language": "python",
   "name": "python3"
  },
  "language_info": {
   "codemirror_mode": {
    "name": "ipython",
    "version": 3
   },
   "file_extension": ".py",
   "mimetype": "text/x-python",
   "name": "python",
   "nbconvert_exporter": "python",
   "pygments_lexer": "ipython3",
   "version": "3.6.8"
  }
 },
 "nbformat": 4,
 "nbformat_minor": 2
}
